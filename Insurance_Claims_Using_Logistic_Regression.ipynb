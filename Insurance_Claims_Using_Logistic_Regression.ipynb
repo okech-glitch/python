{
  "nbformat": 4,
  "nbformat_minor": 0,
  "metadata": {
    "colab": {
      "provenance": [],
      "authorship_tag": "ABX9TyMvFxChh8bQjgP04ccoydC9",
      "include_colab_link": true
    },
    "kernelspec": {
      "name": "python3",
      "display_name": "Python 3"
    },
    "language_info": {
      "name": "python"
    }
  },
  "cells": [
    {
      "cell_type": "markdown",
      "metadata": {
        "id": "view-in-github",
        "colab_type": "text"
      },
      "source": [
        "<a href=\"https://colab.research.google.com/github/okech-glitch/python/blob/main/Insurance_Claims_Using_Logistic_Regression.ipynb\" target=\"_parent\"><img src=\"https://colab.research.google.com/assets/colab-badge.svg\" alt=\"Open In Colab\"/></a>"
      ]
    },
    {
      "cell_type": "code",
      "execution_count": 1,
      "metadata": {
        "colab": {
          "base_uri": "https://localhost:8080/",
          "height": 73
        },
        "id": "Lpp63ncjjGJu",
        "outputId": "3a1b638a-6be1-4c68-a6f7-e2ca2aced086"
      },
      "outputs": [
        {
          "output_type": "display_data",
          "data": {
            "text/plain": [
              "<IPython.core.display.HTML object>"
            ],
            "text/html": [
              "\n",
              "     <input type=\"file\" id=\"files-e7836c40-a415-44ee-8e41-fc96dd0d4f39\" name=\"files[]\" multiple disabled\n",
              "        style=\"border:none\" />\n",
              "     <output id=\"result-e7836c40-a415-44ee-8e41-fc96dd0d4f39\">\n",
              "      Upload widget is only available when the cell has been executed in the\n",
              "      current browser session. Please rerun this cell to enable.\n",
              "      </output>\n",
              "      <script>// Copyright 2017 Google LLC\n",
              "//\n",
              "// Licensed under the Apache License, Version 2.0 (the \"License\");\n",
              "// you may not use this file except in compliance with the License.\n",
              "// You may obtain a copy of the License at\n",
              "//\n",
              "//      http://www.apache.org/licenses/LICENSE-2.0\n",
              "//\n",
              "// Unless required by applicable law or agreed to in writing, software\n",
              "// distributed under the License is distributed on an \"AS IS\" BASIS,\n",
              "// WITHOUT WARRANTIES OR CONDITIONS OF ANY KIND, either express or implied.\n",
              "// See the License for the specific language governing permissions and\n",
              "// limitations under the License.\n",
              "\n",
              "/**\n",
              " * @fileoverview Helpers for google.colab Python module.\n",
              " */\n",
              "(function(scope) {\n",
              "function span(text, styleAttributes = {}) {\n",
              "  const element = document.createElement('span');\n",
              "  element.textContent = text;\n",
              "  for (const key of Object.keys(styleAttributes)) {\n",
              "    element.style[key] = styleAttributes[key];\n",
              "  }\n",
              "  return element;\n",
              "}\n",
              "\n",
              "// Max number of bytes which will be uploaded at a time.\n",
              "const MAX_PAYLOAD_SIZE = 100 * 1024;\n",
              "\n",
              "function _uploadFiles(inputId, outputId) {\n",
              "  const steps = uploadFilesStep(inputId, outputId);\n",
              "  const outputElement = document.getElementById(outputId);\n",
              "  // Cache steps on the outputElement to make it available for the next call\n",
              "  // to uploadFilesContinue from Python.\n",
              "  outputElement.steps = steps;\n",
              "\n",
              "  return _uploadFilesContinue(outputId);\n",
              "}\n",
              "\n",
              "// This is roughly an async generator (not supported in the browser yet),\n",
              "// where there are multiple asynchronous steps and the Python side is going\n",
              "// to poll for completion of each step.\n",
              "// This uses a Promise to block the python side on completion of each step,\n",
              "// then passes the result of the previous step as the input to the next step.\n",
              "function _uploadFilesContinue(outputId) {\n",
              "  const outputElement = document.getElementById(outputId);\n",
              "  const steps = outputElement.steps;\n",
              "\n",
              "  const next = steps.next(outputElement.lastPromiseValue);\n",
              "  return Promise.resolve(next.value.promise).then((value) => {\n",
              "    // Cache the last promise value to make it available to the next\n",
              "    // step of the generator.\n",
              "    outputElement.lastPromiseValue = value;\n",
              "    return next.value.response;\n",
              "  });\n",
              "}\n",
              "\n",
              "/**\n",
              " * Generator function which is called between each async step of the upload\n",
              " * process.\n",
              " * @param {string} inputId Element ID of the input file picker element.\n",
              " * @param {string} outputId Element ID of the output display.\n",
              " * @return {!Iterable<!Object>} Iterable of next steps.\n",
              " */\n",
              "function* uploadFilesStep(inputId, outputId) {\n",
              "  const inputElement = document.getElementById(inputId);\n",
              "  inputElement.disabled = false;\n",
              "\n",
              "  const outputElement = document.getElementById(outputId);\n",
              "  outputElement.innerHTML = '';\n",
              "\n",
              "  const pickedPromise = new Promise((resolve) => {\n",
              "    inputElement.addEventListener('change', (e) => {\n",
              "      resolve(e.target.files);\n",
              "    });\n",
              "  });\n",
              "\n",
              "  const cancel = document.createElement('button');\n",
              "  inputElement.parentElement.appendChild(cancel);\n",
              "  cancel.textContent = 'Cancel upload';\n",
              "  const cancelPromise = new Promise((resolve) => {\n",
              "    cancel.onclick = () => {\n",
              "      resolve(null);\n",
              "    };\n",
              "  });\n",
              "\n",
              "  // Wait for the user to pick the files.\n",
              "  const files = yield {\n",
              "    promise: Promise.race([pickedPromise, cancelPromise]),\n",
              "    response: {\n",
              "      action: 'starting',\n",
              "    }\n",
              "  };\n",
              "\n",
              "  cancel.remove();\n",
              "\n",
              "  // Disable the input element since further picks are not allowed.\n",
              "  inputElement.disabled = true;\n",
              "\n",
              "  if (!files) {\n",
              "    return {\n",
              "      response: {\n",
              "        action: 'complete',\n",
              "      }\n",
              "    };\n",
              "  }\n",
              "\n",
              "  for (const file of files) {\n",
              "    const li = document.createElement('li');\n",
              "    li.append(span(file.name, {fontWeight: 'bold'}));\n",
              "    li.append(span(\n",
              "        `(${file.type || 'n/a'}) - ${file.size} bytes, ` +\n",
              "        `last modified: ${\n",
              "            file.lastModifiedDate ? file.lastModifiedDate.toLocaleDateString() :\n",
              "                                    'n/a'} - `));\n",
              "    const percent = span('0% done');\n",
              "    li.appendChild(percent);\n",
              "\n",
              "    outputElement.appendChild(li);\n",
              "\n",
              "    const fileDataPromise = new Promise((resolve) => {\n",
              "      const reader = new FileReader();\n",
              "      reader.onload = (e) => {\n",
              "        resolve(e.target.result);\n",
              "      };\n",
              "      reader.readAsArrayBuffer(file);\n",
              "    });\n",
              "    // Wait for the data to be ready.\n",
              "    let fileData = yield {\n",
              "      promise: fileDataPromise,\n",
              "      response: {\n",
              "        action: 'continue',\n",
              "      }\n",
              "    };\n",
              "\n",
              "    // Use a chunked sending to avoid message size limits. See b/62115660.\n",
              "    let position = 0;\n",
              "    do {\n",
              "      const length = Math.min(fileData.byteLength - position, MAX_PAYLOAD_SIZE);\n",
              "      const chunk = new Uint8Array(fileData, position, length);\n",
              "      position += length;\n",
              "\n",
              "      const base64 = btoa(String.fromCharCode.apply(null, chunk));\n",
              "      yield {\n",
              "        response: {\n",
              "          action: 'append',\n",
              "          file: file.name,\n",
              "          data: base64,\n",
              "        },\n",
              "      };\n",
              "\n",
              "      let percentDone = fileData.byteLength === 0 ?\n",
              "          100 :\n",
              "          Math.round((position / fileData.byteLength) * 100);\n",
              "      percent.textContent = `${percentDone}% done`;\n",
              "\n",
              "    } while (position < fileData.byteLength);\n",
              "  }\n",
              "\n",
              "  // All done.\n",
              "  yield {\n",
              "    response: {\n",
              "      action: 'complete',\n",
              "    }\n",
              "  };\n",
              "}\n",
              "\n",
              "scope.google = scope.google || {};\n",
              "scope.google.colab = scope.google.colab || {};\n",
              "scope.google.colab._files = {\n",
              "  _uploadFiles,\n",
              "  _uploadFilesContinue,\n",
              "};\n",
              "})(self);\n",
              "</script> "
            ]
          },
          "metadata": {}
        },
        {
          "output_type": "stream",
          "name": "stdout",
          "text": [
            "Saving claims_data.csv to claims_data.csv\n"
          ]
        }
      ],
      "source": [
        "from google.colab import files\n",
        "uploaded = files.upload()\n"
      ]
    },
    {
      "cell_type": "markdown",
      "source": [
        "**Loading Data**"
      ],
      "metadata": {
        "id": "Mh9E2iDwj4lK"
      }
    },
    {
      "cell_type": "code",
      "source": [
        "import pandas as pd\n",
        "\n",
        "# Replace 'filename.csv' with the name of your uploaded file\n",
        "df = pd.read_csv('claims_data.csv')\n"
      ],
      "metadata": {
        "id": "WaSftznZj_m4"
      },
      "execution_count": 2,
      "outputs": []
    },
    {
      "cell_type": "markdown",
      "source": [
        "**Data Exploration**"
      ],
      "metadata": {
        "id": "Z3ucKdsHk0zY"
      }
    },
    {
      "cell_type": "code",
      "source": [
        "print(df.head())\n"
      ],
      "metadata": {
        "colab": {
          "base_uri": "https://localhost:8080/"
        },
        "id": "2FEfNyT4k3wZ",
        "outputId": "06d3972d-b80c-4c20-a128-303757751bfc"
      },
      "execution_count": 3,
      "outputs": [
        {
          "output_type": "stream",
          "name": "stdout",
          "text": [
            "   age     sex     bmi  steps  children smoker     region insurance_claim  \\\n",
            "0   19  female  27.900   3009         0    yes  southwest             yes   \n",
            "1   18    male  33.770   3008         1     no  southeast             yes   \n",
            "2   28    male  33.000   3009         3     no  southeast              no   \n",
            "3   33    male  22.705  10009         0     no  northwest              no   \n",
            "4   32    male  28.880   8010         0     no  northwest             yes   \n",
            "\n",
            "   claim_amount  \n",
            "0    16884.9240  \n",
            "1     1725.5523  \n",
            "2        0.0000  \n",
            "3        0.0000  \n",
            "4     3866.8552  \n"
          ]
        }
      ]
    },
    {
      "cell_type": "code",
      "source": [
        "print(df.isnull().sum())\n"
      ],
      "metadata": {
        "colab": {
          "base_uri": "https://localhost:8080/"
        },
        "id": "FPyEzeaBlKm-",
        "outputId": "05ce2b6c-0c0e-43d6-ff3b-3b3a5b1c52e5"
      },
      "execution_count": 4,
      "outputs": [
        {
          "output_type": "stream",
          "name": "stdout",
          "text": [
            "age                0\n",
            "sex                0\n",
            "bmi                0\n",
            "steps              0\n",
            "children           0\n",
            "smoker             0\n",
            "region             0\n",
            "insurance_claim    0\n",
            "claim_amount       0\n",
            "dtype: int64\n"
          ]
        }
      ]
    },
    {
      "cell_type": "markdown",
      "source": [
        "Check the distribution of the target variable"
      ],
      "metadata": {
        "id": "cV4HLHj0lV7e"
      }
    },
    {
      "cell_type": "code",
      "source": [
        "print(df['insurance_claim'].value_counts())\n"
      ],
      "metadata": {
        "colab": {
          "base_uri": "https://localhost:8080/"
        },
        "id": "f_oT4RwzlMu3",
        "outputId": "bdc90b3a-d878-4a1d-bf25-332ca4a7e199"
      },
      "execution_count": 5,
      "outputs": [
        {
          "output_type": "stream",
          "name": "stdout",
          "text": [
            "insurance_claim\n",
            "yes    783\n",
            "no     555\n",
            "Name: count, dtype: int64\n"
          ]
        }
      ]
    },
    {
      "cell_type": "markdown",
      "source": [
        "Obtain detailed statistics for each feature, including mean, median, standard deviation, min, and max:"
      ],
      "metadata": {
        "id": "-8B_kGRDl9cf"
      }
    },
    {
      "cell_type": "code",
      "source": [
        "print(df.describe(include='all'))\n"
      ],
      "metadata": {
        "colab": {
          "base_uri": "https://localhost:8080/"
        },
        "id": "gmq_eKcVlb5H",
        "outputId": "294815e2-1d2a-46be-a5b4-fdd404c3ba0c"
      },
      "execution_count": 6,
      "outputs": [
        {
          "output_type": "stream",
          "name": "stdout",
          "text": [
            "                age   sex          bmi         steps     children smoker  \\\n",
            "count   1338.000000  1338  1338.000000   1338.000000  1338.000000   1338   \n",
            "unique          NaN     2          NaN           NaN          NaN      2   \n",
            "top             NaN  male          NaN           NaN          NaN     no   \n",
            "freq            NaN   676          NaN           NaN          NaN   1064   \n",
            "mean      39.207025   NaN    30.663397   5328.623318     1.094918    NaN   \n",
            "std       14.049960   NaN     6.098187   2453.643236     1.205493    NaN   \n",
            "min       18.000000   NaN    15.960000   3000.000000     0.000000    NaN   \n",
            "25%       27.000000   NaN    26.296250   3008.000000     0.000000    NaN   \n",
            "50%       39.000000   NaN    30.400000   4007.000000     1.000000    NaN   \n",
            "75%       51.000000   NaN    34.693750   8004.000000     2.000000    NaN   \n",
            "max       64.000000   NaN    53.130000  10010.000000     5.000000    NaN   \n",
            "\n",
            "           region insurance_claim  claim_amount  \n",
            "count        1338            1338   1338.000000  \n",
            "unique          4               2           NaN  \n",
            "top     southeast             yes           NaN  \n",
            "freq          364             783           NaN  \n",
            "mean          NaN             NaN   9611.312287  \n",
            "std           NaN             NaN  13450.624483  \n",
            "min           NaN             NaN      0.000000  \n",
            "25%           NaN             NaN      0.000000  \n",
            "50%           NaN             NaN   2748.484475  \n",
            "75%           NaN             NaN  13045.979513  \n",
            "max           NaN             NaN  63770.428010  \n"
          ]
        }
      ]
    },
    {
      "cell_type": "markdown",
      "source": [
        "Get counts of unique values for categorical features"
      ],
      "metadata": {
        "id": "cqQ6XL1emeO-"
      }
    },
    {
      "cell_type": "code",
      "source": [
        "for column in df.select_dtypes(include=['object']).columns:\n",
        "    print(df[column].value_counts())\n"
      ],
      "metadata": {
        "colab": {
          "base_uri": "https://localhost:8080/"
        },
        "id": "Yv-lWAdjmaJh",
        "outputId": "a6de21a3-6b12-44a3-e001-12ce42b7e65b"
      },
      "execution_count": 7,
      "outputs": [
        {
          "output_type": "stream",
          "name": "stdout",
          "text": [
            "sex\n",
            "male      676\n",
            "female    662\n",
            "Name: count, dtype: int64\n",
            "smoker\n",
            "no     1064\n",
            "yes     274\n",
            "Name: count, dtype: int64\n",
            "region\n",
            "southeast    364\n",
            "southwest    325\n",
            "northwest    325\n",
            "northeast    324\n",
            "Name: count, dtype: int64\n",
            "insurance_claim\n",
            "yes    783\n",
            "no     555\n",
            "Name: count, dtype: int64\n"
          ]
        }
      ]
    },
    {
      "cell_type": "markdown",
      "source": [
        "Plot histograms for numerical features to understand their distribution"
      ],
      "metadata": {
        "id": "cXX1IIw4nATd"
      }
    },
    {
      "cell_type": "code",
      "source": [
        "import matplotlib.pyplot as plt # Import the matplotlib library and give it the alias 'plt'\n",
        "\n",
        "df[['age', 'bmi', 'steps', 'children', 'claim_amount']].hist(figsize=(12, 10))\n",
        "plt.show()"
      ],
      "metadata": {
        "colab": {
          "base_uri": "https://localhost:8080/",
          "height": 654
        },
        "id": "dyMeMYLZmuOH",
        "outputId": "c64ef75e-7116-4312-d89e-178ff22f6898"
      },
      "execution_count": 9,
      "outputs": [
        {
          "output_type": "display_data",
          "data": {
            "text/plain": [
              "<Figure size 1200x1000 with 6 Axes>"
            ],
            "image/png": "[encoded data removed]"
          },
          "metadata": {}
        }
      ]
    },
    {
      "cell_type": "markdown",
      "source": [
        "Use KDE plots for a smooth estimate of distributions\n",
        "\n"
      ],
      "metadata": {
        "id": "OEJB7oAUnaSP"
      }
    },
    {
      "cell_type": "code",
      "source": [
        "import seaborn as sns\n",
        "sns.kdeplot(df['claim_amount'], fill=True)\n",
        "plt.show()\n"
      ],
      "metadata": {
        "colab": {
          "base_uri": "https://localhost:8080/",
          "height": 465
        },
        "id": "gqZ9RXw3nRdy",
        "outputId": "28431cc2-176f-4e21-f865-470e7ead8366"
      },
      "execution_count": 10,
      "outputs": [
        {
          "output_type": "display_data",
          "data": {
            "text/plain": [
              "<Figure size 640x480 with 1 Axes>"
            ],
            "image/png": "[encoded data removed]"
          },
          "metadata": {}
        }
      ]
    },
    {
      "cell_type": "markdown",
      "source": [
        "Compute and visualize the correlation matrix to identify relationships between features"
      ],
      "metadata": {
        "id": "Y0pqFK2uoPQA"
      }
    },
    {
      "cell_type": "code",
      "source": [
        "correlation_matrix = df.select_dtypes(include='number').corr()\n",
        "sns.heatmap(correlation_matrix, annot=True, cmap='coolwarm')\n",
        "plt.show()"
      ],
      "metadata": {
        "colab": {
          "base_uri": "https://localhost:8080/",
          "height": 435
        },
        "id": "OGqscGc4nkKM",
        "outputId": "a0f09b29-c950-45be-a78a-9d79837c22a3"
      },
      "execution_count": 13,
      "outputs": [
        {
          "output_type": "display_data",
          "data": {
            "text/plain": [
              "<Figure size 640x480 with 2 Axes>"
            ],
            "image/png": "[encoded data removed]"
          },
          "metadata": {}
        }
      ]
    },
    {
      "cell_type": "markdown",
      "source": [
        "Analyze how smoking status relates to insurance claims"
      ],
      "metadata": {
        "id": "iTBFL6-EpJXs"
      }
    },
    {
      "cell_type": "code",
      "source": [
        "import seaborn as sns\n",
        "import matplotlib.pyplot as plt\n",
        "\n",
        "sns.countplot(x='smoker', hue='insurance_claim', data=df)\n",
        "plt.title('Insurance Claims by Smoking Status')\n",
        "plt.show()\n"
      ],
      "metadata": {
        "colab": {
          "base_uri": "https://localhost:8080/",
          "height": 472
        },
        "id": "17AacKjdokJL",
        "outputId": "2145a412-42bf-4e0a-d272-8259f4424e7c"
      },
      "execution_count": 16,
      "outputs": [
        {
          "output_type": "display_data",
          "data": {
            "text/plain": [
              "<Figure size 640x480 with 1 Axes>"
            ],
            "image/png": "[encoded data removed]"
          },
          "metadata": {}
        }
      ]
    },
    {
      "cell_type": "markdown",
      "source": [
        "Investigate how region impacts claim amounts or the likelihood of insurance claims.\n"
      ],
      "metadata": {
        "id": "2kzHCgdepcRe"
      }
    },
    {
      "cell_type": "code",
      "source": [
        "sns.boxplot(x='region', y='claim_amount', data=df)\n",
        "plt.title('Claim Amount by Region')\n",
        "plt.show()\n"
      ],
      "metadata": {
        "colab": {
          "base_uri": "https://localhost:8080/",
          "height": 472
        },
        "id": "RC5JFMfPpNeR",
        "outputId": "95e48065-aaa8-49b4-c53f-5efecd538c83"
      },
      "execution_count": 17,
      "outputs": [
        {
          "output_type": "display_data",
          "data": {
            "text/plain": [
              "<Figure size 640x480 with 1 Axes>"
            ],
            "image/png": "[encoded data removed]"
          },
          "metadata": {}
        }
      ]
    },
    {
      "cell_type": "markdown",
      "source": [
        "Investigate the relationship between the number of steps and claim amount."
      ],
      "metadata": {
        "id": "3GJzSdyFqLiu"
      }
    },
    {
      "cell_type": "code",
      "source": [
        "sns.scatterplot(x='steps', y='claim_amount', data=df)\n",
        "plt.title('Steps vs Claim Amount')\n",
        "plt.show()\n"
      ],
      "metadata": {
        "colab": {
          "base_uri": "https://localhost:8080/",
          "height": 472
        },
        "id": "QK9l0v8YpeP8",
        "outputId": "c9ce7a15-a3a5-4417-d4da-be09ea6d8ae9"
      },
      "execution_count": 19,
      "outputs": [
        {
          "output_type": "display_data",
          "data": {
            "text/plain": [
              "<Figure size 640x480 with 1 Axes>"
            ],
            "image/png": "[encoded data removed]"
          },
          "metadata": {}
        }
      ]
    },
    {
      "cell_type": "code",
      "source": [
        "sns.boxplot(df['claim_amount'])\n",
        "plt.title('Claim Amount Distribution')\n",
        "plt.show()\n"
      ],
      "metadata": {
        "colab": {
          "base_uri": "https://localhost:8080/",
          "height": 433
        },
        "id": "5iGPEloyqh-x",
        "outputId": "b42057c5-fe11-4d0d-f90d-af76ba5ca670"
      },
      "execution_count": 20,
      "outputs": [
        {
          "output_type": "display_data",
          "data": {
            "text/plain": [
              "<Figure size 640x480 with 1 Axes>"
            ],
            "image/png": "[encoded data removed]"
          },
          "metadata": {}
        }
      ]
    },
    {
      "cell_type": "markdown",
      "source": [
        "**Data Preparation**"
      ],
      "metadata": {
        "id": "cheEz26jq8cQ"
      }
    },
    {
      "cell_type": "markdown",
      "source": [
        " Feature Importance Analysis\n",
        "1. Statistical Methods\n",
        "\n",
        "Correlation with Target Variable: Calculate correlation coefficients for numerical features with the target variable. For categorical variables, use methods like Chi-Square tests."
      ],
      "metadata": {
        "id": "hJonwFKysOUt"
      }
    },
    {
      "cell_type": "code",
      "source": [
        "# For numerical features\n",
        "correlation = df.corr(numeric_only=True).sort_values(by='claim_amount', ascending=False) # Sort by 'claim_amount' if it exists\n",
        "print(correlation)"
      ],
      "metadata": {
        "colab": {
          "base_uri": "https://localhost:8080/"
        },
        "id": "gEaCLzZZrBKf",
        "outputId": "5dc6449d-ee93-42fd-b513-1ded1e140de3"
      },
      "execution_count": 23,
      "outputs": [
        {
          "output_type": "stream",
          "name": "stdout",
          "text": [
            "                   age       bmi     steps  children  claim_amount\n",
            "claim_amount  0.218863  0.293001 -0.346876 -0.108556      1.000000\n",
            "bmi           0.109272  1.000000 -0.681149  0.012759      0.293001\n",
            "age           1.000000  0.109272 -0.167957  0.042469      0.218863\n",
            "children      0.042469  0.012759  0.055346  1.000000     -0.108556\n",
            "steps        -0.167957 -0.681149  1.000000  0.055346     -0.346876\n"
          ]
        }
      ]
    },
    {
      "cell_type": "code",
      "source": [
        "from sklearn.feature_selection import f_classif\n",
        "from sklearn.preprocessing import LabelEncoder\n",
        "\n",
        "# Assuming 'df' is your DataFrame\n",
        "X = df.drop('insurance_claim', axis=1)\n",
        "y = df['insurance_claim']\n",
        "\n",
        "# Encode categorical features (e.g., 'sex')\n",
        "for col in X.select_dtypes(include=['object']):\n",
        "    le = LabelEncoder()\n",
        "    X[col] = le.fit_transform(X[col])\n",
        "\n",
        "# Now apply ANOVA F-statistic\n",
        "f_values, p_values = f_classif(X, y)\n",
        "print(f_values, p_values)\n"
      ],
      "metadata": {
        "colab": {
          "base_uri": "https://localhost:8080/"
        },
        "id": "B5PRXOQcsiWi",
        "outputId": "c3420c9c-77db-4763-b3b7-fc76f8758adb"
      },
      "execution_count": 25,
      "outputs": [
        {
          "output_type": "stream",
          "name": "stdout",
          "text": [
            "[1.75046334e+01 1.33247304e+00 2.31353921e+02 2.85342838e+02\n",
            " 2.69213452e+02 1.66918440e+02 5.83356283e-01 7.58667561e+02] [3.05313660e-005 2.48572176e-001 2.62817401e-048 3.60588680e-058\n",
            " 2.93688812e-055 4.56529702e-036 4.45134623e-001 1.23805573e-132]\n"
          ]
        }
      ]
    },
    {
      "cell_type": "markdown",
      "source": [
        "Train models using each feature independently to determine their individual importance"
      ],
      "metadata": {
        "id": "fkOwTkQMuSXK"
      }
    },
    {
      "cell_type": "code",
      "source": [
        "from sklearn.linear_model import LogisticRegression\n",
        "from sklearn.model_selection import train_test_split\n",
        "from sklearn.metrics import accuracy_score\n",
        "\n",
        "# Prepare datasets\n",
        "X_bmi = df[['bmi']]\n",
        "X_steps = df[['steps']]\n",
        "\n",
        "# Split data\n",
        "X_train_bmi, X_test_bmi, y_train, y_test = train_test_split(X_bmi, y, test_size=0.2, random_state=42)\n",
        "X_train_steps, X_test_steps, _, _ = train_test_split(X_steps, y, test_size=0.2, random_state=42)\n",
        "\n",
        "# Train and predict\n",
        "model_bmi = LogisticRegression()\n",
        "model_bmi.fit(X_train_bmi, y_train)\n",
        "y_pred_bmi = model_bmi.predict(X_test_bmi)\n",
        "\n",
        "model_steps = LogisticRegression()\n",
        "model_steps.fit(X_train_steps, y_train)\n",
        "y_pred_steps = model_steps.predict(X_test_steps)\n",
        "\n",
        "# Evaluate\n",
        "print('Accuracy with BMI:', accuracy_score(y_test, y_pred_bmi))\n",
        "print('Accuracy with Steps:', accuracy_score(y_test, y_pred_steps))\n"
      ],
      "metadata": {
        "colab": {
          "base_uri": "https://localhost:8080/"
        },
        "id": "tIOJnMFGuFJ6",
        "outputId": "ca9ed50a-6c87-4362-aef6-2452c1f1eddb"
      },
      "execution_count": 26,
      "outputs": [
        {
          "output_type": "stream",
          "name": "stdout",
          "text": [
            "Accuracy with BMI: 0.667910447761194\n",
            "Accuracy with Steps: 0.6977611940298507\n"
          ]
        }
      ]
    },
    {
      "cell_type": "code",
      "source": [
        "# Update dataset to exclude 'BMI'\n",
        "df_final = df.drop(columns=['bmi'])\n"
      ],
      "metadata": {
        "id": "DVRv3jwYuWjQ"
      },
      "execution_count": 28,
      "outputs": []
    },
    {
      "cell_type": "markdown",
      "source": [
        "Split the updated dataset into features and target variable, and then into training and testing sets."
      ],
      "metadata": {
        "id": "AEsuKSd0vRzn"
      }
    },
    {
      "cell_type": "code",
      "source": [
        "from sklearn.model_selection import train_test_split\n",
        "\n",
        "# Prepare features and target variable\n",
        "X_final = df_final.drop(columns=['claim_amount'])\n",
        "y_final = df_final['claim_amount']\n",
        "\n",
        "# Split data\n",
        "X_train_final, X_test_final, y_train_final, y_test_final = train_test_split(X_final, y_final, test_size=0.2, random_state=42)\n"
      ],
      "metadata": {
        "id": "-zvzgXjsvNgp"
      },
      "execution_count": 29,
      "outputs": []
    },
    {
      "cell_type": "markdown",
      "source": [
        "Feature Engineering\n"
      ],
      "metadata": {
        "id": "vQu12IxNxXwi"
      }
    },
    {
      "cell_type": "code",
      "source": [
        "print(df.columns)  # Check if 'bmi' and 'age' are present\n",
        "print(df[['bmi', 'age']].isnull().sum())  # Check for missing values\n"
      ],
      "metadata": {
        "colab": {
          "base_uri": "https://localhost:8080/"
        },
        "id": "Ewg4YxFevw4B",
        "outputId": "d7d0e44a-cc25-45ef-b460-9e1a057495ab"
      },
      "execution_count": 50,
      "outputs": [
        {
          "output_type": "stream",
          "name": "stdout",
          "text": [
            "Index(['age', 'sex', 'bmi', 'steps', 'children', 'smoker', 'region',\n",
            "       'insurance_claim', 'claim_amount', 'BMI_Age_Interaction',\n",
            "       'Steps_Age_Interaction', 'age', 'bmi', 'steps', 'age^2', 'age bmi',\n",
            "       'age steps', 'bmi^2', 'bmi steps', 'steps^2', 'region_encoded'],\n",
            "      dtype='object')\n",
            "bmi    0\n",
            "bmi    0\n",
            "age    0\n",
            "age    0\n",
            "dtype: int64\n"
          ]
        }
      ]
    },
    {
      "cell_type": "code",
      "source": [
        "print(df[['age', 'bmi', 'steps', 'BMI_Age_Interaction', 'Steps_Age_Interaction']].head())\n"
      ],
      "metadata": {
        "colab": {
          "base_uri": "https://localhost:8080/"
        },
        "id": "v-zfciKYwf_c",
        "outputId": "37d59ab9-f9d5-4bb4-ff9d-14caa0b2164b"
      },
      "execution_count": 46,
      "outputs": [
        {
          "output_type": "stream",
          "name": "stdout",
          "text": [
            "        age       age       bmi       bmi     steps     steps  \\\n",
            "0  0.021739  0.021739  0.321227  0.321227  0.001284  0.001284   \n",
            "1  0.000000  0.000000  0.479150  0.479150  0.001141  0.001141   \n",
            "2  0.217391  0.217391  0.458434  0.458434  0.001284  0.001284   \n",
            "3  0.326087  0.326087  0.181464  0.181464  0.999857  0.999857   \n",
            "4  0.304348  0.304348  0.347592  0.347592  0.714693  0.714693   \n",
            "\n",
            "   BMI_Age_Interaction  Steps_Age_Interaction  \n",
            "0              530.100                  57171  \n",
            "1              607.860                  54144  \n",
            "2              924.000                  84252  \n",
            "3              749.265                 330297  \n",
            "4              924.160                 256320  \n"
          ]
        }
      ]
    },
    {
      "cell_type": "code",
      "source": [
        "# Prepare features and target variable\n",
        "X = df[['age', 'bmi', 'steps', 'BMI_Age_Interaction', 'Steps_Age_Interaction']]\n",
        "y = df['claim_amount']\n",
        "\n",
        "# Split data into training and testing sets\n",
        "from sklearn.model_selection import train_test_split\n",
        "X_train, X_test, y_train, y_test = train_test_split(X, y, test_size=0.2, random_state=42)\n"
      ],
      "metadata": {
        "id": "glhdsc9jxFPj"
      },
      "execution_count": 43,
      "outputs": []
    },
    {
      "cell_type": "code",
      "source": [
        "from sklearn.linear_model import LinearRegression\n",
        "from sklearn.metrics import mean_squared_error\n",
        "\n",
        "# Train the model\n",
        "model = LinearRegression()\n",
        "model.fit(X_train, y_train)\n",
        "\n",
        "# Predict and evaluate\n",
        "y_pred = model.predict(X_test)\n",
        "mse = mean_squared_error(y_test, y_pred)\n",
        "print('Mean Squared Error with Interaction Terms:', mse)\n"
      ],
      "metadata": {
        "colab": {
          "base_uri": "https://localhost:8080/"
        },
        "id": "LdPnszK6xJId",
        "outputId": "96d65070-7dd6-4afb-e355-67abd97b1ad9"
      },
      "execution_count": 44,
      "outputs": [
        {
          "output_type": "stream",
          "name": "stdout",
          "text": [
            "Mean Squared Error with Interaction Terms: 0.038095303357305994\n"
          ]
        }
      ]
    },
    {
      "cell_type": "code",
      "source": [
        "importances = model.coef_\n",
        "features = X.columns\n",
        "importance_df = pd.DataFrame({'Feature': features, 'Importance': importances})\n",
        "importance_df = importance_df.sort_values(by='Importance', ascending=False)\n",
        "print(importance_df)\n"
      ],
      "metadata": {
        "colab": {
          "base_uri": "https://localhost:8080/"
        },
        "id": "dCTYrjvOxMqm",
        "outputId": "f0ec3f7a-f7ff-412e-a517-aad80ae6530c"
      },
      "execution_count": 45,
      "outputs": [
        {
          "output_type": "stream",
          "name": "stdout",
          "text": [
            "                 Feature    Importance\n",
            "6    BMI_Age_Interaction  2.351450e-04\n",
            "7  Steps_Age_Interaction  5.178354e-07\n",
            "3                    bmi -1.106891e-01\n",
            "2                    bmi -1.106891e-01\n",
            "5                  steps -1.456082e-01\n",
            "4                  steps -1.456082e-01\n",
            "0                    age -1.766710e-01\n",
            "1                    age -1.766710e-01\n"
          ]
        }
      ]
    },
    {
      "cell_type": "code",
      "source": [
        "df = df.dropna(subset=['bmi', 'age'])  # Drop rows where 'bmi' or 'age' is missing\n"
      ],
      "metadata": {
        "id": "KDtPCQTgyd1i"
      },
      "execution_count": 51,
      "outputs": []
    },
    {
      "cell_type": "code",
      "source": [
        "# Check for missing values\n",
        "print(df[['bmi', 'age']].isnull().sum())\n",
        "\n",
        "# Check the length of the columns\n",
        "print(len(df['bmi']), len(df['age']))\n",
        "\n",
        "# Check for any potential issues with the DataFrame\n",
        "print(df[['bmi', 'age']].info())\n"
      ],
      "metadata": {
        "colab": {
          "base_uri": "https://localhost:8080/"
        },
        "id": "saib_sm8yhQc",
        "outputId": "ca877d77-8567-4e18-d465-5fd0130207b0"
      },
      "execution_count": 53,
      "outputs": [
        {
          "output_type": "stream",
          "name": "stdout",
          "text": [
            "bmi    0\n",
            "bmi    0\n",
            "age    0\n",
            "age    0\n",
            "dtype: int64\n",
            "1338 1338\n",
            "<class 'pandas.core.frame.DataFrame'>\n",
            "RangeIndex: 1338 entries, 0 to 1337\n",
            "Data columns (total 4 columns):\n",
            " #   Column  Non-Null Count  Dtype  \n",
            "---  ------  --------------  -----  \n",
            " 0   bmi     1338 non-null   float64\n",
            " 1   bmi     1338 non-null   float64\n",
            " 2   age     1338 non-null   float64\n",
            " 3   age     1338 non-null   float64\n",
            "dtypes: float64(4)\n",
            "memory usage: 41.9 KB\n",
            "None\n"
          ]
        }
      ]
    },
    {
      "cell_type": "code",
      "source": [
        "# Drop rows with missing values in 'bmi' or 'age'\n",
        "df = df.dropna(subset=['bmi', 'age'])\n"
      ],
      "metadata": {
        "id": "roXlX46_yxc3"
      },
      "execution_count": 54,
      "outputs": []
    },
    {
      "cell_type": "code",
      "source": [
        "import pandas as pd\n",
        "\n",
        "# Load your dataset\n",
        "df = pd.read_csv('claims_data.csv')\n",
        "\n",
        "# Drop duplicate columns\n",
        "df = df.loc[:, ~df.columns.duplicated()]\n",
        "\n",
        "# Convert columns to numeric types\n",
        "df['bmi'] = pd.to_numeric(df['bmi'], errors='coerce')\n",
        "df['age'] = pd.to_numeric(df['age'], errors='coerce')\n",
        "\n",
        "# Drop rows with missing values in 'bmi' or 'age'\n",
        "df = df.dropna(subset=['bmi', 'age'])\n",
        "\n",
        "# Create interaction terms\n",
        "df['BMI_Age_Interaction'] = df['bmi'] * df['age']\n",
        "df['Steps_Age_Interaction'] = df['steps'] * df['age']\n",
        "\n",
        "# Verify DataFrame\n",
        "print(df.head())\n",
        "print(df.info())\n"
      ],
      "metadata": {
        "colab": {
          "base_uri": "https://localhost:8080/"
        },
        "id": "eonMbXXcy0l2",
        "outputId": "1d6832b6-0e72-46c5-b54c-b3818e2fbcc9"
      },
      "execution_count": 58,
      "outputs": [
        {
          "output_type": "stream",
          "name": "stdout",
          "text": [
            "   age     sex     bmi  steps  children smoker     region insurance_claim  \\\n",
            "0   19  female  27.900   3009         0    yes  southwest             yes   \n",
            "1   18    male  33.770   3008         1     no  southeast             yes   \n",
            "2   28    male  33.000   3009         3     no  southeast              no   \n",
            "3   33    male  22.705  10009         0     no  northwest              no   \n",
            "4   32    male  28.880   8010         0     no  northwest             yes   \n",
            "\n",
            "   claim_amount  BMI_Age_Interaction  Steps_Age_Interaction  \n",
            "0    16884.9240              530.100                  57171  \n",
            "1     1725.5523              607.860                  54144  \n",
            "2        0.0000              924.000                  84252  \n",
            "3        0.0000              749.265                 330297  \n",
            "4     3866.8552              924.160                 256320  \n",
            "<class 'pandas.core.frame.DataFrame'>\n",
            "RangeIndex: 1338 entries, 0 to 1337\n",
            "Data columns (total 11 columns):\n",
            " #   Column                 Non-Null Count  Dtype  \n",
            "---  ------                 --------------  -----  \n",
            " 0   age                    1338 non-null   int64  \n",
            " 1   sex                    1338 non-null   object \n",
            " 2   bmi                    1338 non-null   float64\n",
            " 3   steps                  1338 non-null   int64  \n",
            " 4   children               1338 non-null   int64  \n",
            " 5   smoker                 1338 non-null   object \n",
            " 6   region                 1338 non-null   object \n",
            " 7   insurance_claim        1338 non-null   object \n",
            " 8   claim_amount           1338 non-null   float64\n",
            " 9   BMI_Age_Interaction    1338 non-null   float64\n",
            " 10  Steps_Age_Interaction  1338 non-null   int64  \n",
            "dtypes: float64(3), int64(4), object(4)\n",
            "memory usage: 115.1+ KB\n",
            "None\n"
          ]
        }
      ]
    },
    {
      "cell_type": "code",
      "source": [
        "# Recreate interaction terms\n",
        "if 'bmi' in df.columns and 'age' in df.columns:\n",
        "    df['BMI_Age_Interaction'] = df['bmi'] * df['age']\n",
        "else:\n",
        "    print(\"Warning: 'bmi' or 'age' column not found. Skipping BMI_Age_Interaction calculation.\")\n"
      ],
      "metadata": {
        "id": "J-nB5IQey_0a"
      },
      "execution_count": 59,
      "outputs": []
    },
    {
      "cell_type": "code",
      "source": [
        "# Check if the columns 'bmi' and 'age' exist in the DataFrame\n",
        "required_columns = ['bmi', 'age']\n",
        "missing_columns = [col for col in required_columns if col not in df.columns]\n",
        "\n",
        "if not missing_columns:\n",
        "    # If no columns are missing, create interaction terms\n",
        "    df['BMI_Age_Interaction'] = df['bmi'] * df['age']\n",
        "    print(\"BMI_Age_Interaction created successfully.\")\n",
        "else:\n",
        "    # Print a warning if columns are missing\n",
        "    print(f\"Warning: Missing columns: {', '.join(missing_columns)}. Skipping BMI_Age_Interaction calculation.\")\n"
      ],
      "metadata": {
        "colab": {
          "base_uri": "https://localhost:8080/"
        },
        "id": "0v_OfY300MpF",
        "outputId": "911356e1-3701-40af-c720-09ac4b331a30"
      },
      "execution_count": 60,
      "outputs": [
        {
          "output_type": "stream",
          "name": "stdout",
          "text": [
            "BMI_Age_Interaction created successfully.\n"
          ]
        }
      ]
    },
    {
      "cell_type": "code",
      "source": [
        "print(df.columns)  # Check the column names\n"
      ],
      "metadata": {
        "colab": {
          "base_uri": "https://localhost:8080/"
        },
        "id": "l7Zr9Q_60PQM",
        "outputId": "95e2180a-3c46-46c0-c850-eb2808322913"
      },
      "execution_count": 61,
      "outputs": [
        {
          "output_type": "stream",
          "name": "stdout",
          "text": [
            "Index(['age', 'sex', 'bmi', 'steps', 'children', 'smoker', 'region',\n",
            "       'insurance_claim', 'claim_amount', 'BMI_Age_Interaction',\n",
            "       'Steps_Age_Interaction'],\n",
            "      dtype='object')\n"
          ]
        }
      ]
    },
    {
      "cell_type": "code",
      "source": [
        "print(df.dtypes)  # Check data types\n"
      ],
      "metadata": {
        "colab": {
          "base_uri": "https://localhost:8080/"
        },
        "id": "M4uKScH20SRG",
        "outputId": "caed0fe6-7edd-447a-d8b7-af08f4b97ede"
      },
      "execution_count": 62,
      "outputs": [
        {
          "output_type": "stream",
          "name": "stdout",
          "text": [
            "age                        int64\n",
            "sex                       object\n",
            "bmi                      float64\n",
            "steps                      int64\n",
            "children                   int64\n",
            "smoker                    object\n",
            "region                    object\n",
            "insurance_claim           object\n",
            "claim_amount             float64\n",
            "BMI_Age_Interaction      float64\n",
            "Steps_Age_Interaction      int64\n",
            "dtype: object\n"
          ]
        }
      ]
    },
    {
      "cell_type": "markdown",
      "source": [
        "** Data Preprocessing**"
      ],
      "metadata": {
        "id": "5M414h9f1CKI"
      }
    },
    {
      "cell_type": "code",
      "source": [
        "# One-hot encoding for categorical variables\n",
        "df_encoded = pd.get_dummies(df, columns=['sex', 'smoker', 'region'], drop_first=True)\n"
      ],
      "metadata": {
        "id": "6TJeg2fQ00T1"
      },
      "execution_count": 63,
      "outputs": []
    },
    {
      "cell_type": "code",
      "source": [
        "from sklearn.preprocessing import StandardScaler\n",
        "\n",
        "# Features to scale\n",
        "features_to_scale = ['age', 'bmi', 'steps', 'children', 'BMI_Age_Interaction', 'Steps_Age_Interaction']\n",
        "\n",
        "scaler = StandardScaler()\n",
        "df_encoded[features_to_scale] = scaler.fit_transform(df_encoded[features_to_scale])\n"
      ],
      "metadata": {
        "id": "eudXRk8X04u2"
      },
      "execution_count": 64,
      "outputs": []
    },
    {
      "cell_type": "code",
      "source": [
        "# Features and target\n",
        "X = df_encoded.drop(columns=['insurance_claim', 'claim_amount'])\n",
        "y = df_encoded['insurance_claim'].apply(lambda x: 1 if x == 'yes' else 0)\n"
      ],
      "metadata": {
        "id": "Usc6aSVa08hd"
      },
      "execution_count": 65,
      "outputs": []
    },
    {
      "cell_type": "code",
      "source": [
        "from sklearn.model_selection import train_test_split\n",
        "\n",
        "# Split data into training and testing sets\n",
        "X_train, X_test, y_train, y_test = train_test_split(X, y, test_size=0.2, random_state=42)\n"
      ],
      "metadata": {
        "id": "3NakWeDk1Qfq"
      },
      "execution_count": 66,
      "outputs": []
    },
    {
      "cell_type": "markdown",
      "source": [
        "**Train Models**\n",
        "\n",
        "Logistic Regression"
      ],
      "metadata": {
        "id": "8-s8EmUg1dBQ"
      }
    },
    {
      "cell_type": "code",
      "source": [
        "from sklearn.linear_model import LogisticRegression\n",
        "from sklearn.metrics import accuracy_score, confusion_matrix, classification_report\n",
        "\n",
        "# Initialize and train the model\n",
        "logistic_model = LogisticRegression()\n",
        "logistic_model.fit(X_train, y_train)\n",
        "\n",
        "# Make predictions\n",
        "y_pred_logistic = logistic_model.predict(X_test)\n",
        "\n",
        "# Evaluate the model\n",
        "print(\"Logistic Regression Accuracy:\", accuracy_score(y_test, y_pred_logistic))\n",
        "print(\"Confusion Matrix:\\n\", confusion_matrix(y_test, y_pred_logistic))\n",
        "print(\"Classification Report:\\n\", classification_report(y_test, y_pred_logistic))\n"
      ],
      "metadata": {
        "colab": {
          "base_uri": "https://localhost:8080/"
        },
        "id": "gUS3hcBT1W4t",
        "outputId": "49dbcf73-e660-44ef-c4c4-e6bcfd1421a2"
      },
      "execution_count": 67,
      "outputs": [
        {
          "output_type": "stream",
          "name": "stdout",
          "text": [
            "Logistic Regression Accuracy: 0.8544776119402985\n",
            "Confusion Matrix:\n",
            " [[ 89  18]\n",
            " [ 21 140]]\n",
            "Classification Report:\n",
            "               precision    recall  f1-score   support\n",
            "\n",
            "           0       0.81      0.83      0.82       107\n",
            "           1       0.89      0.87      0.88       161\n",
            "\n",
            "    accuracy                           0.85       268\n",
            "   macro avg       0.85      0.85      0.85       268\n",
            "weighted avg       0.86      0.85      0.85       268\n",
            "\n"
          ]
        }
      ]
    },
    {
      "cell_type": "markdown",
      "source": [
        "Decision Trees"
      ],
      "metadata": {
        "id": "R0QD8R3d1z_B"
      }
    },
    {
      "cell_type": "code",
      "source": [
        "from sklearn.tree import DecisionTreeClassifier\n",
        "\n",
        "# Initialize and train the model\n",
        "decision_tree_model = DecisionTreeClassifier()\n",
        "decision_tree_model.fit(X_train, y_train)\n",
        "\n",
        "# Make predictions\n",
        "y_pred_tree = decision_tree_model.predict(X_test)\n",
        "\n",
        "# Evaluate the model\n",
        "print(\"Decision Tree Accuracy:\", accuracy_score(y_test, y_pred_tree))\n",
        "print(\"Confusion Matrix:\\n\", confusion_matrix(y_test, y_pred_tree))\n",
        "print(\"Classification Report:\\n\", classification_report(y_test, y_pred_tree))\n"
      ],
      "metadata": {
        "colab": {
          "base_uri": "https://localhost:8080/"
        },
        "id": "VXtrqgB_1qoH",
        "outputId": "9e202b9e-51a6-43a5-fa06-2c6bc61a0c1a"
      },
      "execution_count": 68,
      "outputs": [
        {
          "output_type": "stream",
          "name": "stdout",
          "text": [
            "Decision Tree Accuracy: 0.9776119402985075\n",
            "Confusion Matrix:\n",
            " [[103   4]\n",
            " [  2 159]]\n",
            "Classification Report:\n",
            "               precision    recall  f1-score   support\n",
            "\n",
            "           0       0.98      0.96      0.97       107\n",
            "           1       0.98      0.99      0.98       161\n",
            "\n",
            "    accuracy                           0.98       268\n",
            "   macro avg       0.98      0.98      0.98       268\n",
            "weighted avg       0.98      0.98      0.98       268\n",
            "\n"
          ]
        }
      ]
    },
    {
      "cell_type": "markdown",
      "source": [
        "Compare the 2 models"
      ],
      "metadata": {
        "id": "sy2f30Fk2e8T"
      }
    },
    {
      "cell_type": "code",
      "source": [
        "from sklearn.metrics import accuracy_score, precision_score, recall_score, f1_score, roc_auc_score, roc_curve, auc\n",
        "import matplotlib.pyplot as plt\n"
      ],
      "metadata": {
        "id": "cxEiERCx1vf8"
      },
      "execution_count": 69,
      "outputs": []
    },
    {
      "cell_type": "code",
      "source": [
        "# Make predictions\n",
        "y_pred_logistic = logistic_model.predict(X_test)\n",
        "y_pred_prob_logistic = logistic_model.predict_proba(X_test)[:, 1]  # Probabilities for ROC-AUC\n",
        "\n",
        "# Compute metrics\n",
        "accuracy_logistic = accuracy_score(y_test, y_pred_logistic)\n",
        "precision_logistic = precision_score(y_test, y_pred_logistic)\n",
        "recall_logistic = recall_score(y_test, y_pred_logistic)\n",
        "f1_logistic = f1_score(y_test, y_pred_logistic)\n",
        "roc_auc_logistic = roc_auc_score(y_test, y_pred_prob_logistic)\n",
        "\n",
        "print(\"Logistic Regression Metrics:\")\n",
        "print(\"Accuracy:\", accuracy_logistic)\n",
        "print(\"Precision:\", precision_logistic)\n",
        "print(\"Recall:\", recall_logistic)\n",
        "print(\"F1 Score:\", f1_logistic)\n",
        "print(\"ROC-AUC:\", roc_auc_logistic)\n",
        "\n",
        "# ROC Curve\n",
        "fpr_logistic, tpr_logistic, _ = roc_curve(y_test, y_pred_prob_logistic)\n",
        "plt.plot(fpr_logistic, tpr_logistic, label='Logistic Regression ROC curve (area = %0.2f)' % roc_auc_logistic)\n"
      ],
      "metadata": {
        "colab": {
          "base_uri": "https://localhost:8080/",
          "height": 552
        },
        "id": "dTj4OSEL2KuG",
        "outputId": "ce2b223f-db78-47f3-acdc-7a9a39a43ed7"
      },
      "execution_count": 70,
      "outputs": [
        {
          "output_type": "stream",
          "name": "stdout",
          "text": [
            "Logistic Regression Metrics:\n",
            "Accuracy: 0.8544776119402985\n",
            "Precision: 0.8860759493670886\n",
            "Recall: 0.8695652173913043\n",
            "F1 Score: 0.8777429467084639\n",
            "ROC-AUC: 0.9062518140128867\n"
          ]
        },
        {
          "output_type": "execute_result",
          "data": {
            "text/plain": [
              "[<matplotlib.lines.Line2D at 0x7cd2e1f7c190>]"
            ]
          },
          "metadata": {},
          "execution_count": 70
        },
        {
          "output_type": "display_data",
          "data": {
            "text/plain": [
              "<Figure size 640x480 with 1 Axes>"
            ],
            "image/png": "[encoded data removed]"
          },
          "metadata": {}
        }
      ]
    },
    {
      "cell_type": "code",
      "source": [
        "# Make predictions\n",
        "y_pred_tree = decision_tree_model.predict(X_test)\n",
        "y_pred_prob_tree = decision_tree_model.predict_proba(X_test)[:, 1]  # Probabilities for ROC-AUC\n",
        "\n",
        "# Compute metrics\n",
        "accuracy_tree = accuracy_score(y_test, y_pred_tree)\n",
        "precision_tree = precision_score(y_test, y_pred_tree)\n",
        "recall_tree = recall_score(y_test, y_pred_tree)\n",
        "f1_tree = f1_score(y_test, y_pred_tree)\n",
        "roc_auc_tree = roc_auc_score(y_test, y_pred_prob_tree)\n",
        "\n",
        "print(\"Decision Tree Metrics:\")\n",
        "print(\"Accuracy:\", accuracy_tree)\n",
        "print(\"Precision:\", precision_tree)\n",
        "print(\"Recall:\", recall_tree)\n",
        "print(\"F1 Score:\", f1_tree)\n",
        "print(\"ROC-AUC:\", roc_auc_tree)\n",
        "\n",
        "# ROC Curve\n",
        "fpr_tree, tpr_tree, _ = roc_curve(y_test, y_pred_prob_tree)\n",
        "plt.plot(fpr_tree, tpr_tree, label='Decision Tree ROC curve (area = %0.2f)' % roc_auc_tree)\n",
        "\n",
        "# Finalize plot\n",
        "plt.xlabel('False Positive Rate')\n",
        "plt.ylabel('True Positive Rate')\n",
        "plt.title('Receiver Operating Characteristic (ROC)')\n",
        "plt.legend(loc='lower right')\n",
        "plt.show()\n"
      ],
      "metadata": {
        "colab": {
          "base_uri": "https://localhost:8080/",
          "height": 576
        },
        "id": "VgKkc7OL2QRI",
        "outputId": "b58d97a7-dc1a-4932-e62a-2dc99d1301bd"
      },
      "execution_count": 71,
      "outputs": [
        {
          "output_type": "stream",
          "name": "stdout",
          "text": [
            "Decision Tree Metrics:\n",
            "Accuracy: 0.9776119402985075\n",
            "Precision: 0.9754601226993865\n",
            "Recall: 0.9875776397515528\n",
            "F1 Score: 0.9814814814814815\n",
            "ROC-AUC: 0.9750972310907297\n"
          ]
        },
        {
          "output_type": "display_data",
          "data": {
            "text/plain": [
              "<Figure size 640x480 with 1 Axes>"
            ],
            "image/png": "[encoded data removed]"
          },
          "metadata": {}
        }
      ]
    },
    {
      "cell_type": "markdown",
      "source": [
        "Tune Hyperparameters"
      ],
      "metadata": {
        "id": "95DDaV-s3H6_"
      }
    },
    {
      "cell_type": "code",
      "source": [
        "from sklearn.model_selection import GridSearchCV\n",
        "\n",
        "# Define the parameter grid\n",
        "param_grid = {\n",
        "    'max_depth': [None, 10, 20, 30],\n",
        "    'min_samples_split': [2, 5, 10],\n",
        "    'min_samples_leaf': [1, 2, 4],\n",
        "    'max_features': [None, 'sqrt', 'log2']\n",
        "}\n",
        "\n",
        "# Initialize the model\n",
        "decision_tree = DecisionTreeClassifier()\n",
        "\n",
        "# Setup the GridSearchCV\n",
        "grid_search = GridSearchCV(estimator=decision_tree, param_grid=param_grid, cv=5, scoring='accuracy')\n",
        "\n",
        "# Fit the GridSearchCV\n",
        "grid_search.fit(X_train, y_train)\n",
        "\n",
        "# Print the best parameters and score\n",
        "print(\"Best Parameters:\", grid_search.best_params_)\n",
        "print(\"Best Score:\", grid_search.best_score_)\n",
        "\n",
        "# Use the best model\n",
        "best_decision_tree = grid_search.best_estimator_\n"
      ],
      "metadata": {
        "colab": {
          "base_uri": "https://localhost:8080/"
        },
        "id": "evehmmsk29lM",
        "outputId": "1ef9ec95-4ad4-42c4-ce49-75eed9a901c6"
      },
      "execution_count": 72,
      "outputs": [
        {
          "output_type": "stream",
          "name": "stdout",
          "text": [
            "Best Parameters: {'max_depth': None, 'max_features': None, 'min_samples_leaf': 1, 'min_samples_split': 5}\n",
            "Best Score: 0.9728971962616824\n"
          ]
        }
      ]
    },
    {
      "cell_type": "code",
      "source": [
        "importances = best_decision_tree.feature_importances_\n",
        "feature_names = X.columns\n",
        "\n",
        "# Create a DataFrame for feature importances\n",
        "importance_df = pd.DataFrame({'Feature': feature_names, 'Importance': importances})\n",
        "importance_df = importance_df.sort_values(by='Importance', ascending=False)\n",
        "\n",
        "print(importance_df)\n"
      ],
      "metadata": {
        "colab": {
          "base_uri": "https://localhost:8080/"
        },
        "id": "HfcC4gr03I4G",
        "outputId": "0601dc0a-e52a-4770-d9fc-6fc9173bfa67"
      },
      "execution_count": 73,
      "outputs": [
        {
          "output_type": "stream",
          "name": "stdout",
          "text": [
            "                  Feature  Importance\n",
            "3                children    0.354400\n",
            "1                     bmi    0.328279\n",
            "7              smoker_yes    0.177385\n",
            "0                     age    0.092248\n",
            "2                   steps    0.037892\n",
            "4     BMI_Age_Interaction    0.005793\n",
            "5   Steps_Age_Interaction    0.003096\n",
            "8        region_northwest    0.000907\n",
            "6                sex_male    0.000000\n",
            "9        region_southeast    0.000000\n",
            "10       region_southwest    0.000000\n"
          ]
        }
      ]
    },
    {
      "cell_type": "code",
      "source": [
        "from sklearn.metrics import classification_report, confusion_matrix\n",
        "\n",
        "# Make predictions on the test set\n",
        "y_pred_test = best_decision_tree.predict(X_test)\n",
        "\n",
        "# Print classification report\n",
        "print(\"Classification Report:\")\n",
        "print(classification_report(y_test, y_pred_test))\n",
        "\n",
        "# Print confusion matrix\n",
        "print(\"Confusion Matrix:\")\n",
        "print(confusion_matrix(y_test, y_pred_test))\n"
      ],
      "metadata": {
        "colab": {
          "base_uri": "https://localhost:8080/"
        },
        "id": "Mi9EzyB33RG3",
        "outputId": "613c190e-7e52-4d5e-a3e4-bdcd7555fba7"
      },
      "execution_count": 75,
      "outputs": [
        {
          "output_type": "stream",
          "name": "stdout",
          "text": [
            "Classification Report:\n",
            "              precision    recall  f1-score   support\n",
            "\n",
            "           0       0.96      0.96      0.96       107\n",
            "           1       0.98      0.98      0.98       161\n",
            "\n",
            "    accuracy                           0.97       268\n",
            "   macro avg       0.97      0.97      0.97       268\n",
            "weighted avg       0.97      0.97      0.97       268\n",
            "\n",
            "Confusion Matrix:\n",
            "[[103   4]\n",
            " [  4 157]]\n"
          ]
        }
      ]
    },
    {
      "cell_type": "markdown",
      "source": [
        "Deployment"
      ],
      "metadata": {
        "id": "LVJX1jkh4jtr"
      }
    },
    {
      "cell_type": "code",
      "source": [
        "import joblib\n",
        "\n",
        "# Save the model\n",
        "joblib.dump(best_decision_tree, 'decision_tree_model.pkl')\n",
        "\n",
        "# Load the model\n",
        "loaded_model = joblib.load('decision_tree_model.pkl')\n"
      ],
      "metadata": {
        "id": "VwJDDpCa3w1_"
      },
      "execution_count": 76,
      "outputs": []
    },
    {
      "cell_type": "code",
      "source": [
        "new_data = {\n",
        "    'age': 30,\n",
        "    'bmi': 28.5,\n",
        "    'steps': 5000,\n",
        "    'children': 1,\n",
        "    'smoker': 'yes',\n",
        "    'region': 'southwest'\n",
        "}\n"
      ],
      "metadata": {
        "id": "mzVK-poY31pt"
      },
      "execution_count": 77,
      "outputs": []
    },
    {
      "cell_type": "code",
      "source": [
        "import pandas as pd\n",
        "\n",
        "# Create a DataFrame for the new individual\n",
        "new_data_df = pd.DataFrame([new_data])\n",
        "\n",
        "# Ensure the same preprocessing is applied\n",
        "# Example: Encoding categorical variables\n",
        "# new_data_df['sex'] = new_data_df['sex'].map({'male': 0, 'female': 1})  # Remove this line as 'sex' is not in new_data\n",
        "new_data_df['smoker'] = new_data_df['smoker'].map({'no': 0, 'yes': 1})\n",
        "new_data_df['region'] = new_data_df['region'].map({\n",
        "    'southwest': 0,\n",
        "    'southeast': 1,\n",
        "    'northwest': 2,\n",
        "    'northeast': 3\n",
        "})\n",
        "\n",
        "# Generate interaction terms\n",
        "new_data_df['BMI_Age_Interaction'] = new_data_df['bmi'] * new_data_df['age']\n",
        "new_data_df['Steps_Age_Interaction'] = new_data_df['steps'] * new_data_df['age']"
      ],
      "metadata": {
        "id": "iJs5R_iJ34Tv"
      },
      "execution_count": 79,
      "outputs": []
    },
    {
      "cell_type": "code",
      "source": [
        "import pandas as pd\n",
        "\n",
        "# Create a DataFrame for the new individual\n",
        "new_data_df = pd.DataFrame([new_data])\n",
        "\n",
        "# Ensure the same preprocessing is applied\n",
        "# Example: Encoding categorical variables\n",
        "new_data_df['smoker'] = new_data_df['smoker'].map({'no': 0, 'yes': 1})\n",
        "new_data_df['region'] = new_data_df['region'].map({\n",
        "    'southwest': 0,\n",
        "    'southeast': 1,\n",
        "    'northwest': 2,\n",
        "    'northeast': 3\n",
        "})\n",
        "\n",
        "# Generate interaction terms\n",
        "new_data_df['BMI_Age_Interaction'] = new_data_df['bmi'] * new_data_df['age']\n",
        "new_data_df['Steps_Age_Interaction'] = new_data_df['steps'] * new_data_df['age']\n",
        "\n",
        "# Add missing columns and fill with 0 (assuming they are binary features)\n",
        "for col in ['sex_male', 'smoker_yes', 'region_northwest', 'region_southeast', 'region_southwest']:\n",
        "    if col not in new_data_df.columns:\n",
        "        new_data_df[col] = 0  # Fill with 0 assuming they are binary features\n",
        "\n",
        "# Align the columns with the training data\n",
        "new_data_df = new_data_df[X.columns]"
      ],
      "metadata": {
        "id": "LgO0ZoAs4C7h"
      },
      "execution_count": 81,
      "outputs": []
    },
    {
      "cell_type": "code",
      "source": [
        "# Load the trained model (if not already loaded)\n",
        "import joblib\n",
        "best_decision_tree = joblib.load('decision_tree_model.pkl')\n",
        "\n",
        "# Make the prediction\n",
        "prediction = best_decision_tree.predict(new_data_df)\n",
        "\n",
        "# Convert the prediction to a human-readable format\n",
        "prediction_label = 'yes' if prediction[0] == 1 else 'no'\n",
        "print(f\"The prediction for the new individual is: {prediction_label}\")\n"
      ],
      "metadata": {
        "colab": {
          "base_uri": "https://localhost:8080/"
        },
        "id": "DwTeTMe-4RjF",
        "outputId": "f3bf2850-6e7c-420e-b30b-e58fd4d6f33f"
      },
      "execution_count": 82,
      "outputs": [
        {
          "output_type": "stream",
          "name": "stdout",
          "text": [
            "The prediction for the new individual is: no\n"
          ]
        }
      ]
    },
    {
      "cell_type": "code",
      "source": [
        "import pandas as pd\n",
        "import joblib\n",
        "\n",
        "# Define the new individual's data\n",
        "new_person_data = {\n",
        "    'age': 45,\n",
        "    'bmi': 22.3,\n",
        "    'steps': 6000,\n",
        "    'children': 2,\n",
        "    'smoker': 'no',\n",
        "    'region': 'northeast'\n",
        "}\n",
        "\n",
        "# Create a DataFrame for the new individual\n",
        "new_person_df = pd.DataFrame([new_person_data])\n",
        "\n",
        "# Encode categorical variables\n",
        "new_person_df['smoker'] = new_person_df['smoker'].map({'no': 0, 'yes': 1})\n",
        "new_person_df['region'] = new_person_df['region'].map({\n",
        "    'southwest': 0,\n",
        "    'southeast': 1,\n",
        "    'northwest': 2,\n",
        "    'northeast': 3\n",
        "})\n",
        "\n",
        "# Generate interaction terms\n",
        "new_person_df['BMI_Age_Interaction'] = new_person_df['bmi'] * new_person_df['age']\n",
        "new_person_df['Steps_Age_Interaction'] = new_person_df['steps'] * new_person_df['age']\n",
        "\n",
        "# Add missing columns and fill with 0\n",
        "# (This assumes one-hot encoding was used on the training data)\n",
        "for col in ['sex_male', 'smoker_yes', 'region_northwest', 'region_southeast', 'region_southwest']:\n",
        "    if col not in new_person_df.columns:\n",
        "        new_person_df[col] = 0\n",
        "\n",
        "# Align columns with the training data\n",
        "new_person_df = new_person_df[X.columns]\n",
        "\n",
        "# Load the trained model\n",
        "model = joblib.load('decision_tree_model.pkl')\n",
        "\n",
        "# Make the prediction\n",
        "prediction = model.predict(new_person_df)\n",
        "\n",
        "# Output the prediction\n",
        "prediction_label = 'yes' if prediction[0] == 1 else 'no'\n",
        "print(f\"The prediction for the new individual is: {prediction_label}\")"
      ],
      "metadata": {
        "colab": {
          "base_uri": "https://localhost:8080/"
        },
        "id": "BOr7RVAH4sd8",
        "outputId": "60b75715-e5a7-483b-aa0a-3df5f0fc205f"
      },
      "execution_count": 84,
      "outputs": [
        {
          "output_type": "stream",
          "name": "stdout",
          "text": [
            "The prediction for the new individual is: yes\n"
          ]
        }
      ]
    }
  ]
}