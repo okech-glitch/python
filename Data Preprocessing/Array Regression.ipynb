{
 "cells": [
  {
   "cell_type": "code",
   "execution_count": 2,
   "id": "562b3626-14f4-4293-a64e-c8925ff7f612",
   "metadata": {},
   "outputs": [],
   "source": [
    "import pandas as pd\n",
    "import numpy as np\n",
    "from sklearn.linear_model import LinearRegression"
   ]
  },
  {
   "cell_type": "code",
   "execution_count": 11,
   "id": "56150614-ed6d-4969-8f45-0d0458e4dcaf",
   "metadata": {},
   "outputs": [
    {
     "data": {
      "text/plain": [
       "array([[ 3],\n",
       "       [21],\n",
       "       [22],\n",
       "       [34],\n",
       "       [54],\n",
       "       [34],\n",
       "       [55],\n",
       "       [67],\n",
       "       [89],\n",
       "       [99]])"
      ]
     },
     "execution_count": 11,
     "metadata": {},
     "output_type": "execute_result"
    }
   ],
   "source": [
    "X=[3,21,22,34,54,34,55,67,89,99]\n",
    "Y=[1,10,14,34,44,36,22,67,79,90]\n",
    "X_array=np.array(X).reshape(-1, 1)\n",
    "Y_array=np.array(Y)\n",
    "X_array"
   ]
  },
  {
   "cell_type": "code",
   "execution_count": 15,
   "id": "21c5b54f-346c-424d-af0d-af5da1f6b92b",
   "metadata": {},
   "outputs": [
    {
     "data": {
      "image/png": "[encoded data removed]",
      "text/plain": [
       "<Figure size 800x500 with 1 Axes>"
      ]
     },
     "metadata": {},
     "output_type": "display_data"
    }
   ],
   "source": [
    "from matplotlib import pyplot as plt\n",
    "plt.figure(figsize=(8,5))\n",
    "plt.scatter(X_array, Y_array,marker='o')\n",
    "plt.grid()"
   ]
  },
  {
   "cell_type": "code",
   "execution_count": 17,
   "id": "519c65ba-fd08-44c4-b9f0-330f408642d7",
   "metadata": {},
   "outputs": [
    {
     "name": "stdout",
     "output_type": "stream",
     "text": [
      "[0.9287452]\n"
     ]
    },
    {
     "data": {
      "text/plain": [
       "0.895183163769148"
      ]
     },
     "execution_count": 17,
     "metadata": {},
     "output_type": "execute_result"
    }
   ],
   "source": [
    "regression=LinearRegression()\n",
    "regression.fit(X_array,Y_array)\n",
    "print(regression.coef_)\n",
    "regression.score(X_array,Y_array)"
   ]
  },
  {
   "cell_type": "code",
   "execution_count": null,
   "id": "44438099-ad8b-4e44-af73-eff04ad8e4b7",
   "metadata": {},
   "outputs": [],
   "source": []
  }
 ],
 "metadata": {
  "kernelspec": {
   "display_name": "Python 3 (ipykernel)",
   "language": "python",
   "name": "python3"
  },
  "language_info": {
   "codemirror_mode": {
    "name": "ipython",
    "version": 3
   },
   "file_extension": ".py",
   "mimetype": "text/x-python",
   "name": "python",
   "nbconvert_exporter": "python",
   "pygments_lexer": "ipython3",
   "version": "3.13.5"
  }
 },
 "nbformat": 4,
 "nbformat_minor": 5
}
