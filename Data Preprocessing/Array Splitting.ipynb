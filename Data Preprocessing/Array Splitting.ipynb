{
 "cells": [
  {
   "cell_type": "code",
   "execution_count": 2,
   "id": "1bdbbc42-5859-4175-bee2-7335addfdc2d",
   "metadata": {},
   "outputs": [
    {
     "name": "stdout",
     "output_type": "stream",
     "text": [
      "[11]\n"
     ]
    }
   ],
   "source": [
    "import pandas as pd\n",
    "from numpy import array\n",
    "slicing=array([11,22,33,44,55])\n",
    "print(slicing[0:1])"
   ]
  },
  {
   "cell_type": "code",
   "execution_count": 4,
   "id": "4f22ddff-c479-462a-9917-c0fdfc7fa9bc",
   "metadata": {},
   "outputs": [
    {
     "name": "stdout",
     "output_type": "stream",
     "text": [
      "[22]\n"
     ]
    }
   ],
   "source": [
    "print(slicing[1:2])"
   ]
  },
  {
   "cell_type": "code",
   "execution_count": 8,
   "id": "2a92a9f3-463c-453d-acde-098f4ac7c085",
   "metadata": {},
   "outputs": [
    {
     "name": "stdout",
     "output_type": "stream",
     "text": [
      "[44 55]\n"
     ]
    }
   ],
   "source": [
    "print(slicing[-2:])"
   ]
  },
  {
   "cell_type": "code",
   "execution_count": null,
   "id": "485ca7a7-e704-4fb8-bebd-e23c777983c4",
   "metadata": {},
   "outputs": [],
   "source": []
  }
 ],
 "metadata": {
  "kernelspec": {
   "display_name": "Python 3 (ipykernel)",
   "language": "python",
   "name": "python3"
  },
  "language_info": {
   "codemirror_mode": {
    "name": "ipython",
    "version": 3
   },
   "file_extension": ".py",
   "mimetype": "text/x-python",
   "name": "python",
   "nbconvert_exporter": "python",
   "pygments_lexer": "ipython3",
   "version": "3.13.5"
  }
 },
 "nbformat": 4,
 "nbformat_minor": 5
}
