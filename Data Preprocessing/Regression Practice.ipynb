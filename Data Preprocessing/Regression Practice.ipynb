{
 "cells": [
  {
   "cell_type": "code",
   "execution_count": 2,
   "id": "143df407-472e-4296-a589-cc0566ba2179",
   "metadata": {},
   "outputs": [
    {
     "data": {
      "text/html": [
       "<div>\n",
       "<style scoped>\n",
       "    .dataframe tbody tr th:only-of-type {\n",
       "        vertical-align: middle;\n",
       "    }\n",
       "\n",
       "    .dataframe tbody tr th {\n",
       "        vertical-align: top;\n",
       "    }\n",
       "\n",
       "    .dataframe thead th {\n",
       "        text-align: right;\n",
       "    }\n",
       "</style>\n",
       "<table border=\"1\" class=\"dataframe\">\n",
       "  <thead>\n",
       "    <tr style=\"text-align: right;\">\n",
       "      <th></th>\n",
       "      <th>SerialNo</th>\n",
       "      <th>StudyHours</th>\n",
       "      <th>MarksScored</th>\n",
       "    </tr>\n",
       "  </thead>\n",
       "  <tbody>\n",
       "    <tr>\n",
       "      <th>0</th>\n",
       "      <td>1</td>\n",
       "      <td>15</td>\n",
       "      <td>56</td>\n",
       "    </tr>\n",
       "    <tr>\n",
       "      <th>1</th>\n",
       "      <td>2</td>\n",
       "      <td>25</td>\n",
       "      <td>93</td>\n",
       "    </tr>\n",
       "    <tr>\n",
       "      <th>2</th>\n",
       "      <td>3</td>\n",
       "      <td>14</td>\n",
       "      <td>61</td>\n",
       "    </tr>\n",
       "    <tr>\n",
       "      <th>3</th>\n",
       "      <td>4</td>\n",
       "      <td>10</td>\n",
       "      <td>50</td>\n",
       "    </tr>\n",
       "    <tr>\n",
       "      <th>4</th>\n",
       "      <td>5</td>\n",
       "      <td>18</td>\n",
       "      <td>75</td>\n",
       "    </tr>\n",
       "    <tr>\n",
       "      <th>5</th>\n",
       "      <td>6</td>\n",
       "      <td>0</td>\n",
       "      <td>32</td>\n",
       "    </tr>\n",
       "    <tr>\n",
       "      <th>6</th>\n",
       "      <td>7</td>\n",
       "      <td>16</td>\n",
       "      <td>85</td>\n",
       "    </tr>\n",
       "    <tr>\n",
       "      <th>7</th>\n",
       "      <td>8</td>\n",
       "      <td>5</td>\n",
       "      <td>42</td>\n",
       "    </tr>\n",
       "    <tr>\n",
       "      <th>8</th>\n",
       "      <td>9</td>\n",
       "      <td>19</td>\n",
       "      <td>70</td>\n",
       "    </tr>\n",
       "    <tr>\n",
       "      <th>9</th>\n",
       "      <td>10</td>\n",
       "      <td>16</td>\n",
       "      <td>66</td>\n",
       "    </tr>\n",
       "    <tr>\n",
       "      <th>10</th>\n",
       "      <td>11</td>\n",
       "      <td>20</td>\n",
       "      <td>80</td>\n",
       "    </tr>\n",
       "  </tbody>\n",
       "</table>\n",
       "</div>"
      ],
      "text/plain": [
       "    SerialNo  StudyHours  MarksScored\n",
       "0          1          15           56\n",
       "1          2          25           93\n",
       "2          3          14           61\n",
       "3          4          10           50\n",
       "4          5          18           75\n",
       "5          6           0           32\n",
       "6          7          16           85\n",
       "7          8           5           42\n",
       "8          9          19           70\n",
       "9         10          16           66\n",
       "10        11          20           80"
      ]
     },
     "execution_count": 2,
     "metadata": {},
     "output_type": "execute_result"
    }
   ],
   "source": [
    "import pandas as pd\n",
    "marks=pd.read_csv('studentmarks.csv')\n",
    "marks"
   ]
  },
  {
   "cell_type": "code",
   "execution_count": 3,
   "id": "a3334fe3-80cd-4678-bf14-fb5816f4a4b4",
   "metadata": {},
   "outputs": [
    {
     "data": {
      "text/html": [
       "<div>\n",
       "<style scoped>\n",
       "    .dataframe tbody tr th:only-of-type {\n",
       "        vertical-align: middle;\n",
       "    }\n",
       "\n",
       "    .dataframe tbody tr th {\n",
       "        vertical-align: top;\n",
       "    }\n",
       "\n",
       "    .dataframe thead th {\n",
       "        text-align: right;\n",
       "    }\n",
       "</style>\n",
       "<table border=\"1\" class=\"dataframe\">\n",
       "  <thead>\n",
       "    <tr style=\"text-align: right;\">\n",
       "      <th></th>\n",
       "      <th>SerialNo</th>\n",
       "      <th>StudyHours</th>\n",
       "      <th>MarksScored</th>\n",
       "    </tr>\n",
       "  </thead>\n",
       "  <tbody>\n",
       "    <tr>\n",
       "      <th>count</th>\n",
       "      <td>11.000000</td>\n",
       "      <td>11.000000</td>\n",
       "      <td>11.000000</td>\n",
       "    </tr>\n",
       "    <tr>\n",
       "      <th>mean</th>\n",
       "      <td>6.000000</td>\n",
       "      <td>14.363636</td>\n",
       "      <td>64.545455</td>\n",
       "    </tr>\n",
       "    <tr>\n",
       "      <th>std</th>\n",
       "      <td>3.316625</td>\n",
       "      <td>7.060775</td>\n",
       "      <td>18.635255</td>\n",
       "    </tr>\n",
       "    <tr>\n",
       "      <th>min</th>\n",
       "      <td>1.000000</td>\n",
       "      <td>0.000000</td>\n",
       "      <td>32.000000</td>\n",
       "    </tr>\n",
       "    <tr>\n",
       "      <th>25%</th>\n",
       "      <td>3.500000</td>\n",
       "      <td>12.000000</td>\n",
       "      <td>53.000000</td>\n",
       "    </tr>\n",
       "    <tr>\n",
       "      <th>50%</th>\n",
       "      <td>6.000000</td>\n",
       "      <td>16.000000</td>\n",
       "      <td>66.000000</td>\n",
       "    </tr>\n",
       "    <tr>\n",
       "      <th>75%</th>\n",
       "      <td>8.500000</td>\n",
       "      <td>18.500000</td>\n",
       "      <td>77.500000</td>\n",
       "    </tr>\n",
       "    <tr>\n",
       "      <th>max</th>\n",
       "      <td>11.000000</td>\n",
       "      <td>25.000000</td>\n",
       "      <td>93.000000</td>\n",
       "    </tr>\n",
       "  </tbody>\n",
       "</table>\n",
       "</div>"
      ],
      "text/plain": [
       "        SerialNo  StudyHours  MarksScored\n",
       "count  11.000000   11.000000    11.000000\n",
       "mean    6.000000   14.363636    64.545455\n",
       "std     3.316625    7.060775    18.635255\n",
       "min     1.000000    0.000000    32.000000\n",
       "25%     3.500000   12.000000    53.000000\n",
       "50%     6.000000   16.000000    66.000000\n",
       "75%     8.500000   18.500000    77.500000\n",
       "max    11.000000   25.000000    93.000000"
      ]
     },
     "execution_count": 3,
     "metadata": {},
     "output_type": "execute_result"
    }
   ],
   "source": [
    "marks.describe()"
   ]
  },
  {
   "cell_type": "code",
   "execution_count": 5,
   "id": "a54b09ab-43d2-4ace-898d-67c244d1b1b9",
   "metadata": {},
   "outputs": [
    {
     "name": "stdout",
     "output_type": "stream",
     "text": [
      "Training Data is:\n",
      "     SerialNo  StudyHours  MarksScored\n",
      "0          1          15           56\n",
      "2          3          14           61\n",
      "6          7          16           85\n",
      "10        11          20           80\n",
      "4          5          18           75\n",
      "9         10          16           66\n",
      "3          4          10           50\n",
      "Testing Data is:\n",
      "    SerialNo  StudyHours  MarksScored\n",
      "7         8           5           42\n",
      "1         2          25           93\n",
      "8         9          19           70\n",
      "5         6           0           32\n"
     ]
    }
   ],
   "source": [
    "from sklearn.model_selection import train_test_split\n",
    "trainingset, testingset=train_test_split(marks, test_size=0.3, random_state=20)\n",
    "print('Training Data is:\\n', trainingset)\n",
    "print('Testing Data is:\\n', testingset)"
   ]
  },
  {
   "cell_type": "raw",
   "id": "3cd95e62-be52-4b5f-8d7e-f09d441c51ee",
   "metadata": {},
   "source": []
  },
  {
   "cell_type": "code",
   "execution_count": 7,
   "id": "0e957528-499d-4269-8fd3-1c75012fd43c",
   "metadata": {},
   "outputs": [
    {
     "name": "stdout",
     "output_type": "stream",
     "text": [
      "X train is:\n",
      " 0     15\n",
      "2     14\n",
      "6     16\n",
      "10    20\n",
      "4     18\n",
      "9     16\n",
      "3     10\n",
      "Name: StudyHours, dtype: int64\n",
      "Y train is:\n",
      " 0     56\n",
      "2     61\n",
      "6     85\n",
      "10    80\n",
      "4     75\n",
      "9     66\n",
      "3     50\n",
      "Name: MarksScored, dtype: int64\n",
      "X test is:\n",
      " 7     5\n",
      "1    25\n",
      "8    19\n",
      "5     0\n",
      "Name: StudyHours, dtype: int64\n",
      "Y test is:\n",
      " 7    42\n",
      "1    93\n",
      "8    70\n",
      "5    32\n",
      "Name: MarksScored, dtype: int64\n"
     ]
    }
   ],
   "source": [
    "X_train=trainingset['StudyHours']\n",
    "Y_train=trainingset['MarksScored']\n",
    "\n",
    "X_test=testingset['StudyHours']\n",
    "Y_test=testingset['MarksScored']\n",
    "\n",
    "print('X train is:\\n', X_train)\n",
    "print('Y train is:\\n', Y_train)\n",
    "print('X test is:\\n', X_test)\n",
    "print('Y test is:\\n', Y_test)"
   ]
  },
  {
   "cell_type": "code",
   "execution_count": 17,
   "id": "666c6661-970b-414f-a1fb-b9dbfd5b21e9",
   "metadata": {},
   "outputs": [
    {
     "data": {
      "text/plain": [
       "Text(0, 0.5, 'Score')"
      ]
     },
     "execution_count": 17,
     "metadata": {},
     "output_type": "execute_result"
    },
    {
     "data": {
      "image/png": "[encoded data removed]",
      "text/plain": [
       "<Figure size 640x480 with 1 Axes>"
      ]
     },
     "metadata": {},
     "output_type": "display_data"
    }
   ],
   "source": [
    "from matplotlib import pyplot as plt\n",
    "plt.scatter(X_train, Y_train)\n",
    "plt.scatter(X_test, Y_test)\n",
    "plt.grid()\n",
    "plt.title('Score vs Study Hours')\n",
    "plt.xlabel('Study Hours')\n",
    "plt.ylabel('Score')\n"
   ]
  },
  {
   "cell_type": "code",
   "execution_count": 22,
   "id": "34ea091e-afd3-47a7-aebd-e4833a74aefa",
   "metadata": {},
   "outputs": [
    {
     "data": {
      "text/plain": [
       "<Axes: xlabel='StudyHours', ylabel='MarksScored'>"
      ]
     },
     "execution_count": 22,
     "metadata": {},
     "output_type": "execute_result"
    },
    {
     "data": {
      "image/png": "[encoded data removed]",
      "text/plain": [
       "<Figure size 1000x600 with 1 Axes>"
      ]
     },
     "metadata": {},
     "output_type": "display_data"
    }
   ],
   "source": [
    "import seaborn as sb\n",
    "plt.figure(figsize=(10,6))\n",
    "sb.regplot(x=X_train, y=Y_train, line_kws={'color':'red'}, scatter_kws={'color':'green'})"
   ]
  },
  {
   "cell_type": "code",
   "execution_count": null,
   "id": "ce66eacd-c69f-4d58-9c88-49030d6a14d8",
   "metadata": {},
   "outputs": [],
   "source": []
  }
 ],
 "metadata": {
  "kernelspec": {
   "display_name": "Python 3 (ipykernel)",
   "language": "python",
   "name": "python3"
  },
  "language_info": {
   "codemirror_mode": {
    "name": "ipython",
    "version": 3
   },
   "file_extension": ".py",
   "mimetype": "text/x-python",
   "name": "python",
   "nbconvert_exporter": "python",
   "pygments_lexer": "ipython3",
   "version": "3.13.5"
  }
 },
 "nbformat": 4,
 "nbformat_minor": 5
}
