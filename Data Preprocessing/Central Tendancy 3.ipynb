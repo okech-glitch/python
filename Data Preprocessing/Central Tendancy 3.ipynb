{
 "cells": [
  {
   "cell_type": "code",
   "execution_count": 1,
   "id": "66a064fe-f88b-4b1b-9a24-6b23b061be45",
   "metadata": {},
   "outputs": [],
   "source": [
    "import pandas as pd\n",
    "import numpy as np\n",
    "speed=[99,86,87,88,111,86,103,87,94,78,77,85,86]\n"
   ]
  },
  {
   "cell_type": "code",
   "execution_count": 2,
   "id": "f3add350-dfa5-46ef-94fa-29796ff1a7a7",
   "metadata": {},
   "outputs": [
    {
     "data": {
      "text/plain": [
       "np.float64(89.76923076923077)"
      ]
     },
     "execution_count": 2,
     "metadata": {},
     "output_type": "execute_result"
    }
   ],
   "source": [
    "mean=np.mean(speed)\n",
    "mean"
   ]
  },
  {
   "cell_type": "code",
   "execution_count": 3,
   "id": "b909bd47-1e5a-4b6e-a6c7-0d4e9be8118a",
   "metadata": {},
   "outputs": [
    {
     "data": {
      "text/plain": [
       "np.float64(87.0)"
      ]
     },
     "execution_count": 3,
     "metadata": {},
     "output_type": "execute_result"
    }
   ],
   "source": [
    "median=np.median(speed)\n",
    "median"
   ]
  },
  {
   "cell_type": "code",
   "execution_count": 4,
   "id": "9b2c6c87-64e2-47ba-a321-87ef8153103e",
   "metadata": {},
   "outputs": [
    {
     "data": {
      "text/plain": [
       "ModeResult(mode=np.int64(86), count=np.int64(3))"
      ]
     },
     "execution_count": 4,
     "metadata": {},
     "output_type": "execute_result"
    }
   ],
   "source": [
    "from scipy import stats\n",
    "mode=stats.mode(speed)\n",
    "mode"
   ]
  },
  {
   "cell_type": "code",
   "execution_count": 5,
   "id": "f3458603-5a33-42b3-8933-e481eaa1231b",
   "metadata": {},
   "outputs": [
    {
     "data": {
      "text/plain": [
       "np.int64(77)"
      ]
     },
     "execution_count": 5,
     "metadata": {},
     "output_type": "execute_result"
    }
   ],
   "source": [
    "min=np.min(speed)\n",
    "min"
   ]
  },
  {
   "cell_type": "code",
   "execution_count": 6,
   "id": "d05b6871-4962-4abc-ae1e-3d50033840cd",
   "metadata": {},
   "outputs": [
    {
     "data": {
      "text/plain": [
       "np.int64(111)"
      ]
     },
     "execution_count": 6,
     "metadata": {},
     "output_type": "execute_result"
    }
   ],
   "source": [
    "max=np.max(speed)\n",
    "max"
   ]
  },
  {
   "cell_type": "code",
   "execution_count": 8,
   "id": "70bedf99-a95a-4e55-bb9a-f3a0c26f350c",
   "metadata": {},
   "outputs": [
    {
     "data": {
      "text/plain": [
       "9.636336148089395"
      ]
     },
     "execution_count": 8,
     "metadata": {},
     "output_type": "execute_result"
    }
   ],
   "source": [
    "import statistics\n",
    "StandardDeviation=statistics.stdev(speed)\n",
    "StandardDeviation"
   ]
  },
  {
   "cell_type": "code",
   "execution_count": 9,
   "id": "0ba27700-350d-4b67-bc6d-679d186a1618",
   "metadata": {},
   "outputs": [
    {
     "data": {
      "text/plain": [
       "92.85897435897436"
      ]
     },
     "execution_count": 9,
     "metadata": {},
     "output_type": "execute_result"
    }
   ],
   "source": [
    "variance=statistics.variance(speed)\n",
    "variance"
   ]
  },
  {
   "cell_type": "code",
   "execution_count": null,
   "id": "63b6b49f-59a9-4d44-8ea0-3819073c86f1",
   "metadata": {},
   "outputs": [],
   "source": []
  }
 ],
 "metadata": {
  "kernelspec": {
   "display_name": "Python 3 (ipykernel)",
   "language": "python",
   "name": "python3"
  },
  "language_info": {
   "codemirror_mode": {
    "name": "ipython",
    "version": 3
   },
   "file_extension": ".py",
   "mimetype": "text/x-python",
   "name": "python",
   "nbconvert_exporter": "python",
   "pygments_lexer": "ipython3",
   "version": "3.13.5"
  }
 },
 "nbformat": 4,
 "nbformat_minor": 5
}
