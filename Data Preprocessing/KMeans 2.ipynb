{
 "cells": [
  {
   "cell_type": "code",
   "execution_count": 13,
   "id": "1755ec6d-145c-4256-b1f5-49fd5f56b39f",
   "metadata": {},
   "outputs": [
    {
     "data": {
      "text/html": [
       "<div>\n",
       "<style scoped>\n",
       "    .dataframe tbody tr th:only-of-type {\n",
       "        vertical-align: middle;\n",
       "    }\n",
       "\n",
       "    .dataframe tbody tr th {\n",
       "        vertical-align: top;\n",
       "    }\n",
       "\n",
       "    .dataframe thead th {\n",
       "        text-align: right;\n",
       "    }\n",
       "</style>\n",
       "<table border=\"1\" class=\"dataframe\">\n",
       "  <thead>\n",
       "    <tr style=\"text-align: right;\">\n",
       "      <th></th>\n",
       "      <th>Degree_class</th>\n",
       "      <th>University</th>\n",
       "      <th>Letter</th>\n",
       "      <th>Experienced</th>\n",
       "      <th>Hired</th>\n",
       "    </tr>\n",
       "  </thead>\n",
       "  <tbody>\n",
       "    <tr>\n",
       "      <th>0</th>\n",
       "      <td>First</td>\n",
       "      <td>U0N</td>\n",
       "      <td>Good</td>\n",
       "      <td>Yes</td>\n",
       "      <td>Y</td>\n",
       "    </tr>\n",
       "    <tr>\n",
       "      <th>1</th>\n",
       "      <td>First</td>\n",
       "      <td>U0N</td>\n",
       "      <td>Good</td>\n",
       "      <td>Yes</td>\n",
       "      <td>Y</td>\n",
       "    </tr>\n",
       "    <tr>\n",
       "      <th>2</th>\n",
       "      <td>First</td>\n",
       "      <td>U0N</td>\n",
       "      <td>Good</td>\n",
       "      <td>Yes</td>\n",
       "      <td>Y</td>\n",
       "    </tr>\n",
       "    <tr>\n",
       "      <th>3</th>\n",
       "      <td>First</td>\n",
       "      <td>U0N</td>\n",
       "      <td>Good</td>\n",
       "      <td>Yes</td>\n",
       "      <td>Y</td>\n",
       "    </tr>\n",
       "    <tr>\n",
       "      <th>4</th>\n",
       "      <td>Second</td>\n",
       "      <td>U0N</td>\n",
       "      <td>Good</td>\n",
       "      <td>Yes</td>\n",
       "      <td>N</td>\n",
       "    </tr>\n",
       "    <tr>\n",
       "      <th>5</th>\n",
       "      <td>Second</td>\n",
       "      <td>MOI</td>\n",
       "      <td>Bad</td>\n",
       "      <td>Yes</td>\n",
       "      <td>Y</td>\n",
       "    </tr>\n",
       "    <tr>\n",
       "      <th>6</th>\n",
       "      <td>Second</td>\n",
       "      <td>JKUAT</td>\n",
       "      <td>Good</td>\n",
       "      <td>Yes</td>\n",
       "      <td>N</td>\n",
       "    </tr>\n",
       "    <tr>\n",
       "      <th>7</th>\n",
       "      <td>Second</td>\n",
       "      <td>JKUAT</td>\n",
       "      <td>Good</td>\n",
       "      <td>Yes</td>\n",
       "      <td>N</td>\n",
       "    </tr>\n",
       "    <tr>\n",
       "      <th>8</th>\n",
       "      <td>Second</td>\n",
       "      <td>JKUAT</td>\n",
       "      <td>Good</td>\n",
       "      <td>No</td>\n",
       "      <td>Y</td>\n",
       "    </tr>\n",
       "    <tr>\n",
       "      <th>9</th>\n",
       "      <td>First</td>\n",
       "      <td>UON</td>\n",
       "      <td>Good</td>\n",
       "      <td>No</td>\n",
       "      <td>Y</td>\n",
       "    </tr>\n",
       "    <tr>\n",
       "      <th>10</th>\n",
       "      <td>Second</td>\n",
       "      <td>UON</td>\n",
       "      <td>Bad</td>\n",
       "      <td>No</td>\n",
       "      <td>N</td>\n",
       "    </tr>\n",
       "  </tbody>\n",
       "</table>\n",
       "</div>"
      ],
      "text/plain": [
       "   Degree_class University Letter Experienced Hired\n",
       "0         First        U0N   Good         Yes     Y\n",
       "1         First        U0N   Good         Yes     Y\n",
       "2         First        U0N   Good         Yes     Y\n",
       "3         First        U0N   Good         Yes     Y\n",
       "4        Second        U0N   Good         Yes     N\n",
       "5        Second        MOI    Bad         Yes     Y\n",
       "6        Second      JKUAT   Good         Yes     N\n",
       "7        Second      JKUAT   Good         Yes     N\n",
       "8        Second      JKUAT   Good          No     Y\n",
       "9         First        UON   Good          No     Y\n",
       "10       Second        UON    Bad          No     N"
      ]
     },
     "execution_count": 13,
     "metadata": {},
     "output_type": "execute_result"
    }
   ],
   "source": [
    "import pandas as pd\n",
    "college=pd.read_csv('colleges.csv')\n",
    "college"
   ]
  },
  {
   "cell_type": "code",
   "execution_count": 14,
   "id": "012d3c87-82a0-4be7-a8e8-22bd6df91358",
   "metadata": {},
   "outputs": [
    {
     "data": {
      "text/plain": [
       "array([[0, 2, 1, 1, 1],\n",
       "       [0, 2, 1, 1, 1],\n",
       "       [0, 2, 1, 1, 1],\n",
       "       [0, 2, 1, 1, 1],\n",
       "       [1, 2, 1, 1, 0],\n",
       "       [1, 1, 0, 1, 1],\n",
       "       [1, 0, 1, 1, 0],\n",
       "       [1, 0, 1, 1, 0],\n",
       "       [1, 0, 1, 0, 1],\n",
       "       [0, 3, 1, 0, 1],\n",
       "       [1, 3, 0, 0, 0]])"
      ]
     },
     "execution_count": 14,
     "metadata": {},
     "output_type": "execute_result"
    }
   ],
   "source": [
    "from sklearn.preprocessing import LabelEncoder\n",
    "encoder=LabelEncoder()\n",
    "encodeddata=college.apply(encoder.fit_transform)\n",
    "college=encodeddata.values\n",
    "college"
   ]
  },
  {
   "cell_type": "code",
   "execution_count": 18,
   "id": "ab315c1b-c0b9-4c67-83b4-c3f759fb1a28",
   "metadata": {},
   "outputs": [
    {
     "name": "stdout",
     "output_type": "stream",
     "text": [
      "Training data is:\n",
      " [[0 2 1 1 1]\n",
      " [0 2 1 1 1]\n",
      " [1 0 1 1 0]\n",
      " [1 3 0 0 0]\n",
      " [1 2 1 1 0]\n",
      " [0 3 1 0 1]\n",
      " [0 2 1 1 1]]\n",
      "Testing data is:\n",
      " [[1 0 1 1 0]\n",
      " [0 2 1 1 1]\n",
      " [1 0 1 0 1]\n",
      " [1 1 0 1 1]]\n"
     ]
    }
   ],
   "source": [
    "from sklearn.model_selection import train_test_split\n",
    "training, testing=train_test_split(college, test_size=0.3, random_state=20)\n",
    "print('Training data is:\\n', training)\n",
    "print('Testing data is:\\n', testing)"
   ]
  },
  {
   "cell_type": "code",
   "execution_count": 20,
   "id": "4b5355d9-5986-464f-8903-abdc87674c13",
   "metadata": {},
   "outputs": [
    {
     "name": "stdout",
     "output_type": "stream",
     "text": [
      "Independent variables are:\n",
      " [[0 2 1 1]\n",
      " [0 2 1 1]\n",
      " [1 0 1 1]\n",
      " [1 3 0 0]\n",
      " [1 2 1 1]\n",
      " [0 3 1 0]\n",
      " [0 2 1 1]]\n",
      "Dependent variables are:\n",
      " [1 1 0 0 0 1 1]\n"
     ]
    }
   ],
   "source": [
    "#(e) Write the python code to separate independent variables from dependent variable and print the output.   \n",
    "\n",
    "X=training[:, 0:4]\n",
    "Y=training[:, -1]\n",
    "print('Independent variables are:\\n', X)\n",
    "print('Dependent variables are:\\n', Y)"
   ]
  },
  {
   "cell_type": "code",
   "execution_count": 23,
   "id": "e5765f96-6c5a-4bcd-9609-e9cc81d0d91a",
   "metadata": {},
   "outputs": [
    {
     "name": "stdout",
     "output_type": "stream",
     "text": [
      "[[0.         0.66666667 1.         1.        ]\n",
      " [0.         0.66666667 1.         1.        ]\n",
      " [1.         0.         1.         1.        ]\n",
      " [1.         1.         0.         0.        ]\n",
      " [1.         0.66666667 1.         1.        ]\n",
      " [0.         1.         1.         0.        ]\n",
      " [0.         0.66666667 1.         1.        ]]\n"
     ]
    }
   ],
   "source": [
    "from sklearn.preprocessing import MinMaxScaler\n",
    "scaler = MinMaxScaler()\n",
    "X_normalized = scaler.fit_transform(X)\n",
    "\n",
    "print(X_normalized)\n"
   ]
  },
  {
   "cell_type": "code",
   "execution_count": 29,
   "id": "17a2bb59-6805-4fb2-b068-645774db1eb6",
   "metadata": {},
   "outputs": [
    {
     "name": "stderr",
     "output_type": "stream",
     "text": [
      "C:\\Users\\user\\AppData\\Local\\Programs\\Python\\Python313\\Lib\\site-packages\\sklearn\\base.py:1363: ConvergenceWarning: Number of distinct clusters (5) found smaller than n_clusters (6). Possibly due to duplicate points in X.\n",
      "  return fit_method(estimator, *args, **kwargs)\n"
     ]
    },
    {
     "data": {
      "text/plain": [
       "[<matplotlib.lines.Line2D at 0x1d524522ad0>]"
      ]
     },
     "execution_count": 29,
     "metadata": {},
     "output_type": "execute_result"
    },
    {
     "data": {
      "image/png": "[encoded data removed]",
      "text/plain": [
       "<Figure size 800x500 with 1 Axes>"
      ]
     },
     "metadata": {},
     "output_type": "display_data"
    }
   ],
   "source": [
    "from sklearn.cluster import KMeans\n",
    "from matplotlib import pyplot as plt\n",
    "X=X_normalized\n",
    "values=[]\n",
    "for k in range(1, 7):\n",
    "    kmeans=KMeans(n_clusters=k, random_state=20)\n",
    "    kmeans.fit(X)\n",
    "    values.append(kmeans.inertia_)\n",
    "plt.figure(figsize=(8,5))\n",
    "plt.plot(range(1, 7), values, marker='o')\n"
   ]
  },
  {
   "cell_type": "code",
   "execution_count": 32,
   "id": "cdf13939-c568-496d-871c-1a0d88eb2bee",
   "metadata": {},
   "outputs": [
    {
     "name": "stdout",
     "output_type": "stream",
     "text": [
      "[1 1 0 2 0 3 1]\n",
      "[[1.00000000e+00 3.33333333e-01 1.00000000e+00 1.00000000e+00]\n",
      " [5.55111512e-17 6.66666667e-01 1.00000000e+00 1.00000000e+00]\n",
      " [1.00000000e+00 1.00000000e+00 0.00000000e+00 0.00000000e+00]\n",
      " [0.00000000e+00 1.00000000e+00 1.00000000e+00 0.00000000e+00]]\n"
     ]
    }
   ],
   "source": [
    "kmeans=KMeans(n_clusters=4, random_state=20)\n",
    "kmeans.fit(X_normalized)\n",
    "labels=kmeans.labels_\n",
    "centroids = kmeans.cluster_centers_\n",
    "print(labels)\n",
    "print(centroids)"
   ]
  },
  {
   "cell_type": "code",
   "execution_count": null,
   "id": "9898bbb6-265b-413f-a30d-b551efc931e3",
   "metadata": {},
   "outputs": [],
   "source": []
  },
  {
   "cell_type": "code",
   "execution_count": null,
   "id": "1f509b7c-a6fc-4783-a7e4-aec061342cba",
   "metadata": {},
   "outputs": [],
   "source": []
  }
 ],
 "metadata": {
  "kernelspec": {
   "display_name": "Python 3 (ipykernel)",
   "language": "python",
   "name": "python3"
  },
  "language_info": {
   "codemirror_mode": {
    "name": "ipython",
    "version": 3
   },
   "file_extension": ".py",
   "mimetype": "text/x-python",
   "name": "python",
   "nbconvert_exporter": "python",
   "pygments_lexer": "ipython3",
   "version": "3.13.5"
  }
 },
 "nbformat": 4,
 "nbformat_minor": 5
}
