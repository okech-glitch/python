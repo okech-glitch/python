{
 "cells": [
  {
   "cell_type": "code",
   "execution_count": 1,
   "id": "bca42d74-63b3-4438-a218-57dcefd6e537",
   "metadata": {},
   "outputs": [
    {
     "name": "stdout",
     "output_type": "stream",
     "text": [
      "The Median is:\n",
      " 87.0\n"
     ]
    }
   ],
   "source": [
    "import pandas as pd\n",
    "import numpy as np\n",
    "speed=[99,86,87,88,111,86,103,87,94,78,77,85,86]\n",
    "median=np.median(speed)\n",
    "print('The Median is:\\n', median)"
   ]
  },
  {
   "cell_type": "code",
   "execution_count": 2,
   "id": "da587a69-e724-4481-a280-8bd12e7a6427",
   "metadata": {},
   "outputs": [
    {
     "name": "stdout",
     "output_type": "stream",
     "text": [
      "The Mean is:\n",
      " 89.76923076923077\n"
     ]
    }
   ],
   "source": [
    "mean=np.mean(speed)\n",
    "print('The Mean is:\\n', mean)"
   ]
  },
  {
   "cell_type": "code",
   "execution_count": 5,
   "id": "f2cc14ff-75bb-4960-9e30-203e475c36aa",
   "metadata": {},
   "outputs": [
    {
     "name": "stdout",
     "output_type": "stream",
     "text": [
      "The Mode is:\n",
      " ModeResult(mode=np.int64(86), count=np.int64(3))\n"
     ]
    }
   ],
   "source": [
    "from scipy import stats\n",
    "mode=stats.mode(speed)\n",
    "print('The Mode is:\\n', mode)"
   ]
  },
  {
   "cell_type": "code",
   "execution_count": 6,
   "id": "845571d6-bc3e-4249-89d7-8706bb0a146e",
   "metadata": {},
   "outputs": [
    {
     "name": "stdout",
     "output_type": "stream",
     "text": [
      "The Min value is:\n",
      " 77\n"
     ]
    }
   ],
   "source": [
    "min=np.min(speed)\n",
    "print('The Min value is:\\n', min)"
   ]
  },
  {
   "cell_type": "code",
   "execution_count": 8,
   "id": "77854f96-ab9d-4305-aeb8-385652ffbcd4",
   "metadata": {},
   "outputs": [
    {
     "data": {
      "text/plain": [
       "92.85897435897436"
      ]
     },
     "execution_count": 8,
     "metadata": {},
     "output_type": "execute_result"
    }
   ],
   "source": [
    "#standard deviation and variance\n",
    "import statistics\n",
    "variance=statistics.variance(speed)\n",
    "variance"
   ]
  },
  {
   "cell_type": "code",
   "execution_count": 10,
   "id": "7c8a7258-74cb-4649-9242-237ad57801c8",
   "metadata": {},
   "outputs": [
    {
     "data": {
      "text/plain": [
       "9.636336148089395"
      ]
     },
     "execution_count": 10,
     "metadata": {},
     "output_type": "execute_result"
    }
   ],
   "source": [
    "StandardDeviation=statistics.stdev(speed)\n",
    "StandardDeviation"
   ]
  },
  {
   "cell_type": "code",
   "execution_count": null,
   "id": "0acf95c8-6415-4eae-8cae-bb98cc874859",
   "metadata": {},
   "outputs": [],
   "source": []
  }
 ],
 "metadata": {
  "kernelspec": {
   "display_name": "Python 3 (ipykernel)",
   "language": "python",
   "name": "python3"
  },
  "language_info": {
   "codemirror_mode": {
    "name": "ipython",
    "version": 3
   },
   "file_extension": ".py",
   "mimetype": "text/x-python",
   "name": "python",
   "nbconvert_exporter": "python",
   "pygments_lexer": "ipython3",
   "version": "3.13.5"
  }
 },
 "nbformat": 4,
 "nbformat_minor": 5
}
