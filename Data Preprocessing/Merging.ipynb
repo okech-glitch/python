{
 "cells": [
  {
   "cell_type": "code",
   "execution_count": 3,
   "id": "e41354e8-4c3f-4e54-b8a7-9009d22cbd3e",
   "metadata": {},
   "outputs": [
    {
     "data": {
      "text/plain": [
       "(  StudentID  Maths_marks\n",
       " 0     SD001           78\n",
       " 1     SD002           45\n",
       " 2     SD003           56\n",
       " 3     SD004           65\n",
       " 4     SD005           76\n",
       " 5     SD006           69,\n",
       "   StudentID  Physics_marks\n",
       " 0     SD001             61\n",
       " 1     SD002             72\n",
       " 2     SD003             71\n",
       " 3     SD004             54\n",
       " 4     SD005             57\n",
       " 5     SD006             51)"
      ]
     },
     "execution_count": 3,
     "metadata": {},
     "output_type": "execute_result"
    }
   ],
   "source": [
    "import pandas as pd\n",
    "maths=pd.read_csv('MathsMarks.csv')\n",
    "physics=pd.read_csv('physicsmarks.csv')\n",
    "maths, physics"
   ]
  },
  {
   "cell_type": "code",
   "execution_count": 4,
   "id": "bb8e53b7-1f4c-4029-b7a9-9e378a76f2d5",
   "metadata": {},
   "outputs": [
    {
     "data": {
      "text/html": [
       "<div>\n",
       "<style scoped>\n",
       "    .dataframe tbody tr th:only-of-type {\n",
       "        vertical-align: middle;\n",
       "    }\n",
       "\n",
       "    .dataframe tbody tr th {\n",
       "        vertical-align: top;\n",
       "    }\n",
       "\n",
       "    .dataframe thead th {\n",
       "        text-align: right;\n",
       "    }\n",
       "</style>\n",
       "<table border=\"1\" class=\"dataframe\">\n",
       "  <thead>\n",
       "    <tr style=\"text-align: right;\">\n",
       "      <th></th>\n",
       "      <th>StudentID</th>\n",
       "      <th>Maths_marks</th>\n",
       "      <th>Physics_marks</th>\n",
       "    </tr>\n",
       "  </thead>\n",
       "  <tbody>\n",
       "    <tr>\n",
       "      <th>0</th>\n",
       "      <td>SD001</td>\n",
       "      <td>78</td>\n",
       "      <td>61</td>\n",
       "    </tr>\n",
       "    <tr>\n",
       "      <th>1</th>\n",
       "      <td>SD002</td>\n",
       "      <td>45</td>\n",
       "      <td>72</td>\n",
       "    </tr>\n",
       "    <tr>\n",
       "      <th>2</th>\n",
       "      <td>SD003</td>\n",
       "      <td>56</td>\n",
       "      <td>71</td>\n",
       "    </tr>\n",
       "    <tr>\n",
       "      <th>3</th>\n",
       "      <td>SD004</td>\n",
       "      <td>65</td>\n",
       "      <td>54</td>\n",
       "    </tr>\n",
       "    <tr>\n",
       "      <th>4</th>\n",
       "      <td>SD005</td>\n",
       "      <td>76</td>\n",
       "      <td>57</td>\n",
       "    </tr>\n",
       "    <tr>\n",
       "      <th>5</th>\n",
       "      <td>SD006</td>\n",
       "      <td>69</td>\n",
       "      <td>51</td>\n",
       "    </tr>\n",
       "  </tbody>\n",
       "</table>\n",
       "</div>"
      ],
      "text/plain": [
       "  StudentID  Maths_marks  Physics_marks\n",
       "0     SD001           78             61\n",
       "1     SD002           45             72\n",
       "2     SD003           56             71\n",
       "3     SD004           65             54\n",
       "4     SD005           76             57\n",
       "5     SD006           69             51"
      ]
     },
     "execution_count": 4,
     "metadata": {},
     "output_type": "execute_result"
    }
   ],
   "source": [
    "MergedData=pd.merge(maths, physics, on='StudentID')\n",
    "MergedData"
   ]
  },
  {
   "cell_type": "code",
   "execution_count": null,
   "id": "e6f48e23-9eac-4b75-b4a8-350b45265a55",
   "metadata": {},
   "outputs": [],
   "source": []
  }
 ],
 "metadata": {
  "kernelspec": {
   "display_name": "Python 3 (ipykernel)",
   "language": "python",
   "name": "python3"
  },
  "language_info": {
   "codemirror_mode": {
    "name": "ipython",
    "version": 3
   },
   "file_extension": ".py",
   "mimetype": "text/x-python",
   "name": "python",
   "nbconvert_exporter": "python",
   "pygments_lexer": "ipython3",
   "version": "3.13.5"
  }
 },
 "nbformat": 4,
 "nbformat_minor": 5
}
