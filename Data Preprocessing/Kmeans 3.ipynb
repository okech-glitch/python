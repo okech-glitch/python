{
 "cells": [
  {
   "cell_type": "code",
   "execution_count": 3,
   "id": "2201cb7f-91a6-427f-b169-780e7abefd0d",
   "metadata": {},
   "outputs": [
    {
     "data": {
      "text/html": [
       "<div>\n",
       "<style scoped>\n",
       "    .dataframe tbody tr th:only-of-type {\n",
       "        vertical-align: middle;\n",
       "    }\n",
       "\n",
       "    .dataframe tbody tr th {\n",
       "        vertical-align: top;\n",
       "    }\n",
       "\n",
       "    .dataframe thead th {\n",
       "        text-align: right;\n",
       "    }\n",
       "</style>\n",
       "<table border=\"1\" class=\"dataframe\">\n",
       "  <thead>\n",
       "    <tr style=\"text-align: right;\">\n",
       "      <th></th>\n",
       "      <th>Degree_class</th>\n",
       "      <th>University</th>\n",
       "      <th>Letter</th>\n",
       "      <th>Experienced</th>\n",
       "      <th>Hired</th>\n",
       "    </tr>\n",
       "  </thead>\n",
       "  <tbody>\n",
       "    <tr>\n",
       "      <th>0</th>\n",
       "      <td>First</td>\n",
       "      <td>U0N</td>\n",
       "      <td>Good</td>\n",
       "      <td>Yes</td>\n",
       "      <td>Y</td>\n",
       "    </tr>\n",
       "    <tr>\n",
       "      <th>1</th>\n",
       "      <td>First</td>\n",
       "      <td>U0N</td>\n",
       "      <td>Good</td>\n",
       "      <td>Yes</td>\n",
       "      <td>Y</td>\n",
       "    </tr>\n",
       "    <tr>\n",
       "      <th>2</th>\n",
       "      <td>First</td>\n",
       "      <td>U0N</td>\n",
       "      <td>Good</td>\n",
       "      <td>Yes</td>\n",
       "      <td>Y</td>\n",
       "    </tr>\n",
       "    <tr>\n",
       "      <th>3</th>\n",
       "      <td>First</td>\n",
       "      <td>U0N</td>\n",
       "      <td>Good</td>\n",
       "      <td>Yes</td>\n",
       "      <td>Y</td>\n",
       "    </tr>\n",
       "    <tr>\n",
       "      <th>4</th>\n",
       "      <td>Second</td>\n",
       "      <td>U0N</td>\n",
       "      <td>Good</td>\n",
       "      <td>Yes</td>\n",
       "      <td>N</td>\n",
       "    </tr>\n",
       "    <tr>\n",
       "      <th>5</th>\n",
       "      <td>Second</td>\n",
       "      <td>MOI</td>\n",
       "      <td>Bad</td>\n",
       "      <td>Yes</td>\n",
       "      <td>Y</td>\n",
       "    </tr>\n",
       "    <tr>\n",
       "      <th>6</th>\n",
       "      <td>Second</td>\n",
       "      <td>JKUAT</td>\n",
       "      <td>Good</td>\n",
       "      <td>Yes</td>\n",
       "      <td>N</td>\n",
       "    </tr>\n",
       "    <tr>\n",
       "      <th>7</th>\n",
       "      <td>Second</td>\n",
       "      <td>JKUAT</td>\n",
       "      <td>Good</td>\n",
       "      <td>Yes</td>\n",
       "      <td>N</td>\n",
       "    </tr>\n",
       "    <tr>\n",
       "      <th>8</th>\n",
       "      <td>Second</td>\n",
       "      <td>JKUAT</td>\n",
       "      <td>Good</td>\n",
       "      <td>No</td>\n",
       "      <td>Y</td>\n",
       "    </tr>\n",
       "    <tr>\n",
       "      <th>9</th>\n",
       "      <td>First</td>\n",
       "      <td>UON</td>\n",
       "      <td>Good</td>\n",
       "      <td>No</td>\n",
       "      <td>Y</td>\n",
       "    </tr>\n",
       "    <tr>\n",
       "      <th>10</th>\n",
       "      <td>Second</td>\n",
       "      <td>UON</td>\n",
       "      <td>Bad</td>\n",
       "      <td>No</td>\n",
       "      <td>N</td>\n",
       "    </tr>\n",
       "  </tbody>\n",
       "</table>\n",
       "</div>"
      ],
      "text/plain": [
       "   Degree_class University Letter Experienced Hired\n",
       "0         First        U0N   Good         Yes     Y\n",
       "1         First        U0N   Good         Yes     Y\n",
       "2         First        U0N   Good         Yes     Y\n",
       "3         First        U0N   Good         Yes     Y\n",
       "4        Second        U0N   Good         Yes     N\n",
       "5        Second        MOI    Bad         Yes     Y\n",
       "6        Second      JKUAT   Good         Yes     N\n",
       "7        Second      JKUAT   Good         Yes     N\n",
       "8        Second      JKUAT   Good          No     Y\n",
       "9         First        UON   Good          No     Y\n",
       "10       Second        UON    Bad          No     N"
      ]
     },
     "execution_count": 3,
     "metadata": {},
     "output_type": "execute_result"
    }
   ],
   "source": [
    "import pandas as pd\n",
    "data=pd.read_csv('colleges.csv')\n",
    "data"
   ]
  },
  {
   "cell_type": "code",
   "execution_count": 5,
   "id": "f3d26419-fde7-4e51-a06d-0d72ac72c9e9",
   "metadata": {},
   "outputs": [
    {
     "data": {
      "text/plain": [
       "array([[0, 2, 1, 1, 1],\n",
       "       [0, 2, 1, 1, 1],\n",
       "       [0, 2, 1, 1, 1],\n",
       "       [0, 2, 1, 1, 1],\n",
       "       [1, 2, 1, 1, 0],\n",
       "       [1, 1, 0, 1, 1],\n",
       "       [1, 0, 1, 1, 0],\n",
       "       [1, 0, 1, 1, 0],\n",
       "       [1, 0, 1, 0, 1],\n",
       "       [0, 3, 1, 0, 1],\n",
       "       [1, 3, 0, 0, 0]])"
      ]
     },
     "execution_count": 5,
     "metadata": {},
     "output_type": "execute_result"
    }
   ],
   "source": [
    "from sklearn.preprocessing import LabelEncoder\n",
    "encoder=LabelEncoder()\n",
    "encoded=data.apply(encoder.fit_transform)\n",
    "college=encoded.values\n",
    "college"
   ]
  },
  {
   "cell_type": "code",
   "execution_count": 8,
   "id": "7486db87-86e3-4b91-9317-437119f46f57",
   "metadata": {},
   "outputs": [
    {
     "name": "stdout",
     "output_type": "stream",
     "text": [
      "Training data is:\n",
      " [[0 2 1 1 1]\n",
      " [0 2 1 1 1]\n",
      " [1 0 1 0 1]\n",
      " [1 2 1 1 0]\n",
      " [1 0 1 1 0]\n",
      " [0 2 1 1 1]\n",
      " [1 0 1 1 0]]\n",
      "Testing data is:\n",
      " [[1 1 0 1 1]\n",
      " [0 2 1 1 1]\n",
      " [0 3 1 0 1]\n",
      " [1 3 0 0 0]]\n"
     ]
    }
   ],
   "source": [
    "from sklearn.model_selection import train_test_split\n",
    "training, testing=train_test_split(college, test_size=0.3, random_state=42)\n",
    "print('Training data is:\\n',training)\n",
    "print('Testing data is:\\n',testing)"
   ]
  },
  {
   "cell_type": "code",
   "execution_count": 11,
   "id": "b4eafe69-fd7c-4703-9cde-699f57476eaa",
   "metadata": {},
   "outputs": [
    {
     "name": "stdout",
     "output_type": "stream",
     "text": [
      "Independent variable is:\n",
      " [[0 2 1 1]\n",
      " [0 2 1 1]\n",
      " [1 0 1 0]\n",
      " [1 2 1 1]\n",
      " [1 0 1 1]\n",
      " [0 2 1 1]\n",
      " [1 0 1 1]]\n",
      "Dependent variable is:\n",
      " [1 1 1 0 0 1 0]\n"
     ]
    }
   ],
   "source": [
    "X=training[:,0:4]\n",
    "y=training[:,-1]\n",
    "print('Independent variable is:\\n',X)\n",
    "print('Dependent variable is:\\n',y)"
   ]
  },
  {
   "cell_type": "code",
   "execution_count": 12,
   "id": "c2d223b4-61e5-41cd-803c-fda90c996f11",
   "metadata": {},
   "outputs": [
    {
     "data": {
      "text/plain": [
       "array([[0., 1., 0., 1.],\n",
       "       [0., 1., 0., 1.],\n",
       "       [1., 0., 0., 0.],\n",
       "       [1., 1., 0., 1.],\n",
       "       [1., 0., 0., 1.],\n",
       "       [0., 1., 0., 1.],\n",
       "       [1., 0., 0., 1.]])"
      ]
     },
     "execution_count": 12,
     "metadata": {},
     "output_type": "execute_result"
    }
   ],
   "source": [
    "from sklearn.preprocessing import MinMaxScaler\n",
    "scaler=MinMaxScaler()\n",
    "scaled=scaler.fit_transform(X)\n",
    "scaled"
   ]
  },
  {
   "cell_type": "code",
   "execution_count": 15,
   "id": "f18af0e6-5974-4f20-b957-879545178807",
   "metadata": {},
   "outputs": [
    {
     "name": "stderr",
     "output_type": "stream",
     "text": [
      "C:\\Users\\user\\AppData\\Local\\Programs\\Python\\Python313\\Lib\\site-packages\\sklearn\\base.py:1363: ConvergenceWarning: Number of distinct clusters (4) found smaller than n_clusters (5). Possibly due to duplicate points in X.\n",
      "  return fit_method(estimator, *args, **kwargs)\n",
      "C:\\Users\\user\\AppData\\Local\\Programs\\Python\\Python313\\Lib\\site-packages\\sklearn\\base.py:1363: ConvergenceWarning: Number of distinct clusters (4) found smaller than n_clusters (6). Possibly due to duplicate points in X.\n",
      "  return fit_method(estimator, *args, **kwargs)\n"
     ]
    },
    {
     "data": {
      "image/png": "[encoded data removed]",
      "text/plain": [
       "<Figure size 800x500 with 1 Axes>"
      ]
     },
     "metadata": {},
     "output_type": "display_data"
    }
   ],
   "source": [
    "from sklearn.cluster import KMeans\n",
    "from matplotlib import pyplot as plt\n",
    "X=scaled\n",
    "values=[]\n",
    "for k in range(1,7):\n",
    "    kmeans=KMeans(n_clusters=k, random_state=20)\n",
    "    kmeans.fit(X)\n",
    "    values.append(kmeans.inertia_)\n",
    "plt.figure(figsize=(8,5))\n",
    "plt.plot(range(1,7), values, marker='o')\n",
    "plt.grid()"
   ]
  },
  {
   "cell_type": "code",
   "execution_count": 18,
   "id": "fd97916c-8921-47c3-bb96-26045a28a678",
   "metadata": {},
   "outputs": [
    {
     "name": "stdout",
     "output_type": "stream",
     "text": [
      "[1 1 3 2 0 1 0]\n",
      "[[1. 0. 0. 1.]\n",
      " [0. 1. 0. 1.]\n",
      " [1. 1. 0. 1.]\n",
      " [1. 0. 0. 0.]]\n"
     ]
    }
   ],
   "source": [
    "#apply KMeans\n",
    "kmeans=KMeans(n_clusters=4, random_state=20)\n",
    "kmeans.fit(scaled)\n",
    "labels=kmeans.labels_\n",
    "centroid=kmeans.cluster_centers_\n",
    "print(labels)\n",
    "print(centroid)"
   ]
  },
  {
   "cell_type": "code",
   "execution_count": null,
   "id": "d8707199-5709-402c-8808-e5c20776161b",
   "metadata": {},
   "outputs": [],
   "source": []
  }
 ],
 "metadata": {
  "kernelspec": {
   "display_name": "Python 3 (ipykernel)",
   "language": "python",
   "name": "python3"
  },
  "language_info": {
   "codemirror_mode": {
    "name": "ipython",
    "version": 3
   },
   "file_extension": ".py",
   "mimetype": "text/x-python",
   "name": "python",
   "nbconvert_exporter": "python",
   "pygments_lexer": "ipython3",
   "version": "3.13.5"
  }
 },
 "nbformat": 4,
 "nbformat_minor": 5
}
