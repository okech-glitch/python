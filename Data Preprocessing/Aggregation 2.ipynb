{
 "cells": [
  {
   "cell_type": "code",
   "execution_count": 1,
   "id": "a9766202-bc2f-49d2-9eac-a357070659c7",
   "metadata": {},
   "outputs": [
    {
     "data": {
      "text/html": [
       "<div>\n",
       "<style scoped>\n",
       "    .dataframe tbody tr th:only-of-type {\n",
       "        vertical-align: middle;\n",
       "    }\n",
       "\n",
       "    .dataframe tbody tr th {\n",
       "        vertical-align: top;\n",
       "    }\n",
       "\n",
       "    .dataframe thead th {\n",
       "        text-align: right;\n",
       "    }\n",
       "</style>\n",
       "<table border=\"1\" class=\"dataframe\">\n",
       "  <thead>\n",
       "    <tr style=\"text-align: right;\">\n",
       "      <th></th>\n",
       "      <th>Empname</th>\n",
       "      <th>Dept</th>\n",
       "      <th>Salary</th>\n",
       "      <th>EducationLevel</th>\n",
       "      <th>YrsOfExperience</th>\n",
       "    </tr>\n",
       "  </thead>\n",
       "  <tbody>\n",
       "    <tr>\n",
       "      <th>0</th>\n",
       "      <td>John Titus</td>\n",
       "      <td>IT</td>\n",
       "      <td>2000</td>\n",
       "      <td>Diploma</td>\n",
       "      <td>1</td>\n",
       "    </tr>\n",
       "    <tr>\n",
       "      <th>1</th>\n",
       "      <td>Kendal William</td>\n",
       "      <td>IT</td>\n",
       "      <td>5500</td>\n",
       "      <td>Degree</td>\n",
       "      <td>5</td>\n",
       "    </tr>\n",
       "    <tr>\n",
       "      <th>2</th>\n",
       "      <td>Winsky Melvin</td>\n",
       "      <td>Finance</td>\n",
       "      <td>5600</td>\n",
       "      <td>Degree</td>\n",
       "      <td>7</td>\n",
       "    </tr>\n",
       "    <tr>\n",
       "      <th>3</th>\n",
       "      <td>McCarthy</td>\n",
       "      <td>HRM</td>\n",
       "      <td>3440</td>\n",
       "      <td>Diploma</td>\n",
       "      <td>3</td>\n",
       "    </tr>\n",
       "    <tr>\n",
       "      <th>4</th>\n",
       "      <td>Marvin Ada</td>\n",
       "      <td>Finance</td>\n",
       "      <td>9000</td>\n",
       "      <td>Masters</td>\n",
       "      <td>4</td>\n",
       "    </tr>\n",
       "    <tr>\n",
       "      <th>5</th>\n",
       "      <td>Cate William</td>\n",
       "      <td>HRM</td>\n",
       "      <td>3000</td>\n",
       "      <td>Diploma</td>\n",
       "      <td>3</td>\n",
       "    </tr>\n",
       "    <tr>\n",
       "      <th>6</th>\n",
       "      <td>Peter Lee</td>\n",
       "      <td>IT</td>\n",
       "      <td>3500</td>\n",
       "      <td>Degree</td>\n",
       "      <td>8</td>\n",
       "    </tr>\n",
       "    <tr>\n",
       "      <th>7</th>\n",
       "      <td>Jane Walker</td>\n",
       "      <td>HRM</td>\n",
       "      <td>7000</td>\n",
       "      <td>Masters</td>\n",
       "      <td>6</td>\n",
       "    </tr>\n",
       "    <tr>\n",
       "      <th>8</th>\n",
       "      <td>Alice Bush</td>\n",
       "      <td>IT</td>\n",
       "      <td>2800</td>\n",
       "      <td>Degree</td>\n",
       "      <td>6</td>\n",
       "    </tr>\n",
       "    <tr>\n",
       "      <th>9</th>\n",
       "      <td>Leo Johnstone</td>\n",
       "      <td>Finance</td>\n",
       "      <td>1800</td>\n",
       "      <td>Diploma</td>\n",
       "      <td>1</td>\n",
       "    </tr>\n",
       "  </tbody>\n",
       "</table>\n",
       "</div>"
      ],
      "text/plain": [
       "          Empname     Dept  Salary EducationLevel  YrsOfExperience\n",
       "0      John Titus       IT    2000        Diploma                1\n",
       "1  Kendal William       IT    5500         Degree                5\n",
       "2   Winsky Melvin  Finance    5600         Degree                7\n",
       "3        McCarthy      HRM    3440        Diploma                3\n",
       "4      Marvin Ada  Finance    9000        Masters                4\n",
       "5    Cate William      HRM    3000        Diploma                3\n",
       "6       Peter Lee       IT    3500         Degree                8\n",
       "7     Jane Walker      HRM    7000        Masters                6\n",
       "8      Alice Bush       IT    2800         Degree                6\n",
       "9   Leo Johnstone  Finance    1800        Diploma                1"
      ]
     },
     "execution_count": 1,
     "metadata": {},
     "output_type": "execute_result"
    }
   ],
   "source": [
    "import pandas as pd\n",
    "data=pd.read_csv('workers.csv')\n",
    "data"
   ]
  },
  {
   "cell_type": "code",
   "execution_count": 2,
   "id": "49edf8b7-cb9e-4bad-b4b7-826af5460a83",
   "metadata": {},
   "outputs": [
    {
     "data": {
      "text/html": [
       "<div>\n",
       "<style scoped>\n",
       "    .dataframe tbody tr th:only-of-type {\n",
       "        vertical-align: middle;\n",
       "    }\n",
       "\n",
       "    .dataframe tbody tr th {\n",
       "        vertical-align: top;\n",
       "    }\n",
       "\n",
       "    .dataframe thead th {\n",
       "        text-align: right;\n",
       "    }\n",
       "</style>\n",
       "<table border=\"1\" class=\"dataframe\">\n",
       "  <thead>\n",
       "    <tr style=\"text-align: right;\">\n",
       "      <th></th>\n",
       "      <th>Empname</th>\n",
       "      <th>Dept</th>\n",
       "      <th>Salary</th>\n",
       "      <th>EducationLevel</th>\n",
       "      <th>YrsOfExperience</th>\n",
       "    </tr>\n",
       "  </thead>\n",
       "  <tbody>\n",
       "    <tr>\n",
       "      <th>1</th>\n",
       "      <td>Kendal William</td>\n",
       "      <td>IT</td>\n",
       "      <td>5500</td>\n",
       "      <td>Degree</td>\n",
       "      <td>5</td>\n",
       "    </tr>\n",
       "    <tr>\n",
       "      <th>2</th>\n",
       "      <td>Winsky Melvin</td>\n",
       "      <td>Finance</td>\n",
       "      <td>5600</td>\n",
       "      <td>Degree</td>\n",
       "      <td>7</td>\n",
       "    </tr>\n",
       "    <tr>\n",
       "      <th>4</th>\n",
       "      <td>Marvin Ada</td>\n",
       "      <td>Finance</td>\n",
       "      <td>9000</td>\n",
       "      <td>Masters</td>\n",
       "      <td>4</td>\n",
       "    </tr>\n",
       "    <tr>\n",
       "      <th>7</th>\n",
       "      <td>Jane Walker</td>\n",
       "      <td>HRM</td>\n",
       "      <td>7000</td>\n",
       "      <td>Masters</td>\n",
       "      <td>6</td>\n",
       "    </tr>\n",
       "  </tbody>\n",
       "</table>\n",
       "</div>"
      ],
      "text/plain": [
       "          Empname     Dept  Salary EducationLevel  YrsOfExperience\n",
       "1  Kendal William       IT    5500         Degree                5\n",
       "2   Winsky Melvin  Finance    5600         Degree                7\n",
       "4      Marvin Ada  Finance    9000        Masters                4\n",
       "7     Jane Walker      HRM    7000        Masters                6"
      ]
     },
     "execution_count": 2,
     "metadata": {},
     "output_type": "execute_result"
    }
   ],
   "source": [
    "#workers earning more than 5000\n",
    "Earners=data[data['Salary']>5000]\n",
    "Earners"
   ]
  },
  {
   "cell_type": "code",
   "execution_count": 3,
   "id": "6773dd1e-b0d3-471e-b18a-57d877e44c46",
   "metadata": {},
   "outputs": [
    {
     "data": {
      "text/plain": [
       "Dept     EducationLevel\n",
       "Finance  Degree             5600\n",
       "         Diploma            1800\n",
       "         Masters            9000\n",
       "HRM      Diploma            6440\n",
       "         Masters            7000\n",
       "IT       Degree            11800\n",
       "         Diploma            2000\n",
       "Name: Salary, dtype: int64"
      ]
     },
     "execution_count": 3,
     "metadata": {},
     "output_type": "execute_result"
    }
   ],
   "source": [
    "#Calculate and display the total salary paid to the staff by department and education level.\n",
    "salary=data.groupby(['Dept','EducationLevel'])['Salary'].sum()\n",
    "salary"
   ]
  },
  {
   "cell_type": "code",
   "execution_count": 10,
   "id": "c04f493d-727f-40d9-a4ac-69b4a6b592de",
   "metadata": {},
   "outputs": [
    {
     "data": {
      "text/plain": [
       "<Axes: xlabel='Dept,EducationLevel'>"
      ]
     },
     "execution_count": 10,
     "metadata": {},
     "output_type": "execute_result"
    },
    {
     "data": {
      "image/png": "[encoded data removed]",
      "text/plain": [
       "<Figure size 800x500 with 1 Axes>"
      ]
     },
     "metadata": {},
     "output_type": "display_data"
    }
   ],
   "source": [
    "from matplotlib import pyplot as plt\n",
    "plt.figure(figsize=(8,5))\n",
    "salary.plot(kind='bar', color='skyblue')"
   ]
  },
  {
   "cell_type": "code",
   "execution_count": null,
   "id": "671021ef-7b84-4388-ad78-a95f23562900",
   "metadata": {},
   "outputs": [],
   "source": []
  }
 ],
 "metadata": {
  "kernelspec": {
   "display_name": "Python 3 (ipykernel)",
   "language": "python",
   "name": "python3"
  },
  "language_info": {
   "codemirror_mode": {
    "name": "ipython",
    "version": 3
   },
   "file_extension": ".py",
   "mimetype": "text/x-python",
   "name": "python",
   "nbconvert_exporter": "python",
   "pygments_lexer": "ipython3",
   "version": "3.13.5"
  }
 },
 "nbformat": 4,
 "nbformat_minor": 5
}
