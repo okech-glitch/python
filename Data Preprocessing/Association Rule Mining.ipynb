{
 "cells": [
  {
   "cell_type": "code",
   "execution_count": 1,
   "id": "21ee4431-96fd-48c6-8193-64a9cff01667",
   "metadata": {},
   "outputs": [],
   "source": [
    "import pandas as pd\n",
    "from mlxtend.preprocessing import TransactionEncoder\n",
    "from mlxtend.frequent_patterns import apriori, association_rules"
   ]
  },
  {
   "cell_type": "code",
   "execution_count": 2,
   "id": "6df26b77-22e0-4a91-a5f2-e5d4460e3d9d",
   "metadata": {},
   "outputs": [],
   "source": [
    "transactiondata = [\n",
    "    ['Milk', 'Bread', 'Butter'],\n",
    "    ['Bread', 'Butter'],\n",
    "    ['Milk', 'Bread'],\n",
    "    ['Milk', 'Butter'],\n",
    "    ['Milk', 'Bread', 'Butter', 'Cheese'],\n",
    "    ['Bread', 'Cheese'],\n",
    "    ['Bread', 'Butter'],\n",
    "    ['Bread', 'Butter', 'Cheese'],\n",
    "    ['Bread', 'Cheese']\n",
    "]"
   ]
  },
  {
   "cell_type": "code",
   "execution_count": 3,
   "id": "a891a90e-0128-4d9b-9ff4-7dbcf5a8f7f6",
   "metadata": {},
   "outputs": [
    {
     "data": {
      "text/html": [
       "<div>\n",
       "<style scoped>\n",
       "    .dataframe tbody tr th:only-of-type {\n",
       "        vertical-align: middle;\n",
       "    }\n",
       "\n",
       "    .dataframe tbody tr th {\n",
       "        vertical-align: top;\n",
       "    }\n",
       "\n",
       "    .dataframe thead th {\n",
       "        text-align: right;\n",
       "    }\n",
       "</style>\n",
       "<table border=\"1\" class=\"dataframe\">\n",
       "  <thead>\n",
       "    <tr style=\"text-align: right;\">\n",
       "      <th></th>\n",
       "      <th>Bread</th>\n",
       "      <th>Butter</th>\n",
       "      <th>Cheese</th>\n",
       "      <th>Milk</th>\n",
       "    </tr>\n",
       "  </thead>\n",
       "  <tbody>\n",
       "    <tr>\n",
       "      <th>0</th>\n",
       "      <td>True</td>\n",
       "      <td>True</td>\n",
       "      <td>False</td>\n",
       "      <td>True</td>\n",
       "    </tr>\n",
       "    <tr>\n",
       "      <th>1</th>\n",
       "      <td>True</td>\n",
       "      <td>True</td>\n",
       "      <td>False</td>\n",
       "      <td>False</td>\n",
       "    </tr>\n",
       "    <tr>\n",
       "      <th>2</th>\n",
       "      <td>True</td>\n",
       "      <td>False</td>\n",
       "      <td>False</td>\n",
       "      <td>True</td>\n",
       "    </tr>\n",
       "    <tr>\n",
       "      <th>3</th>\n",
       "      <td>False</td>\n",
       "      <td>True</td>\n",
       "      <td>False</td>\n",
       "      <td>True</td>\n",
       "    </tr>\n",
       "    <tr>\n",
       "      <th>4</th>\n",
       "      <td>True</td>\n",
       "      <td>True</td>\n",
       "      <td>True</td>\n",
       "      <td>True</td>\n",
       "    </tr>\n",
       "    <tr>\n",
       "      <th>5</th>\n",
       "      <td>True</td>\n",
       "      <td>False</td>\n",
       "      <td>True</td>\n",
       "      <td>False</td>\n",
       "    </tr>\n",
       "    <tr>\n",
       "      <th>6</th>\n",
       "      <td>True</td>\n",
       "      <td>True</td>\n",
       "      <td>False</td>\n",
       "      <td>False</td>\n",
       "    </tr>\n",
       "    <tr>\n",
       "      <th>7</th>\n",
       "      <td>True</td>\n",
       "      <td>True</td>\n",
       "      <td>True</td>\n",
       "      <td>False</td>\n",
       "    </tr>\n",
       "    <tr>\n",
       "      <th>8</th>\n",
       "      <td>True</td>\n",
       "      <td>False</td>\n",
       "      <td>True</td>\n",
       "      <td>False</td>\n",
       "    </tr>\n",
       "  </tbody>\n",
       "</table>\n",
       "</div>"
      ],
      "text/plain": [
       "   Bread  Butter  Cheese   Milk\n",
       "0   True    True   False   True\n",
       "1   True    True   False  False\n",
       "2   True   False   False   True\n",
       "3  False    True   False   True\n",
       "4   True    True    True   True\n",
       "5   True   False    True  False\n",
       "6   True    True   False  False\n",
       "7   True    True    True  False\n",
       "8   True   False    True  False"
      ]
     },
     "execution_count": 3,
     "metadata": {},
     "output_type": "execute_result"
    }
   ],
   "source": [
    "#convert the data into a suitable form for Apriori\n",
    "encoder=TransactionEncoder()\n",
    "encoded=encoder.fit_transform(transactiondata)\n",
    "data=pd.DataFrame(encoded, columns=encoder.columns_)\n",
    "data"
   ]
  },
  {
   "cell_type": "code",
   "execution_count": 5,
   "id": "295a1adb-4017-4f64-9dee-9dbb997b497a",
   "metadata": {},
   "outputs": [
    {
     "name": "stdout",
     "output_type": "stream",
     "text": [
      "Frequent Items:\n",
      "     support         itemsets\n",
      "0  0.888889          (Bread)\n",
      "1  0.666667         (Butter)\n",
      "2  0.444444         (Cheese)\n",
      "3  0.444444           (Milk)\n",
      "4  0.555556  (Butter, Bread)\n",
      "5  0.444444  (Cheese, Bread)\n",
      "6  0.333333    (Bread, Milk)\n",
      "7  0.333333   (Butter, Milk)\n"
     ]
    }
   ],
   "source": [
    "#apply Apriori\n",
    "frequentitems=apriori(data, min_support=0.3, use_colnames=True)\n",
    "print('Frequent Items:\\n',frequentitems )"
   ]
  },
  {
   "cell_type": "code",
   "execution_count": 8,
   "id": "650d60cc-8020-44f1-a21d-9c75c0b37563",
   "metadata": {},
   "outputs": [
    {
     "name": "stdout",
     "output_type": "stream",
     "text": [
      "Association Rules:\n",
      "   antecedents consequents  antecedent support  consequent support   support  \\\n",
      "0    (Butter)     (Bread)            0.666667            0.888889  0.555556   \n",
      "1    (Cheese)     (Bread)            0.444444            0.888889  0.444444   \n",
      "2      (Milk)     (Bread)            0.444444            0.888889  0.333333   \n",
      "3      (Milk)    (Butter)            0.444444            0.666667  0.333333   \n",
      "\n",
      "   confidence     lift  representativity  leverage  conviction  zhangs_metric  \\\n",
      "0    0.833333  0.93750               1.0 -0.037037    0.666667      -0.166667   \n",
      "1    1.000000  1.12500               1.0  0.049383         inf       0.200000   \n",
      "2    0.750000  0.84375               1.0 -0.061728    0.444444      -0.250000   \n",
      "3    0.750000  1.12500               1.0  0.037037    1.333333       0.200000   \n",
      "\n",
      "    jaccard  certainty  kulczynski  \n",
      "0  0.555556      -0.50    0.729167  \n",
      "1  0.500000       1.00    0.750000  \n",
      "2  0.333333      -1.25    0.562500  \n",
      "3  0.428571       0.25    0.625000  \n"
     ]
    }
   ],
   "source": [
    "#create rules\n",
    "rules=association_rules(frequentitems, metric=\"confidence\", min_threshold=0.7)\n",
    "print('Association Rules:\\n', rules)"
   ]
  },
  {
   "cell_type": "code",
   "execution_count": null,
   "id": "46a54a78-3fd8-4467-a749-f17f829a0b85",
   "metadata": {},
   "outputs": [],
   "source": []
  }
 ],
 "metadata": {
  "kernelspec": {
   "display_name": "Python 3 (ipykernel)",
   "language": "python",
   "name": "python3"
  },
  "language_info": {
   "codemirror_mode": {
    "name": "ipython",
    "version": 3
   },
   "file_extension": ".py",
   "mimetype": "text/x-python",
   "name": "python",
   "nbconvert_exporter": "python",
   "pygments_lexer": "ipython3",
   "version": "3.13.5"
  }
 },
 "nbformat": 4,
 "nbformat_minor": 5
}
