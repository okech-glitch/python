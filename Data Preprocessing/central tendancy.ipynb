{
 "cells": [
  {
   "cell_type": "code",
   "execution_count": 2,
   "id": "1ed4ffb5-638a-4e6d-a8a7-299164ec0718",
   "metadata": {},
   "outputs": [
    {
     "data": {
      "text/html": [
       "<div>\n",
       "<style scoped>\n",
       "    .dataframe tbody tr th:only-of-type {\n",
       "        vertical-align: middle;\n",
       "    }\n",
       "\n",
       "    .dataframe tbody tr th {\n",
       "        vertical-align: top;\n",
       "    }\n",
       "\n",
       "    .dataframe thead th {\n",
       "        text-align: right;\n",
       "    }\n",
       "</style>\n",
       "<table border=\"1\" class=\"dataframe\">\n",
       "  <thead>\n",
       "    <tr style=\"text-align: right;\">\n",
       "      <th></th>\n",
       "      <th>CustomerID</th>\n",
       "      <th>Age</th>\n",
       "      <th>AnnualIncome</th>\n",
       "      <th>SpendingScore</th>\n",
       "    </tr>\n",
       "  </thead>\n",
       "  <tbody>\n",
       "    <tr>\n",
       "      <th>0</th>\n",
       "      <td>99</td>\n",
       "      <td>39</td>\n",
       "      <td>15000</td>\n",
       "      <td>30</td>\n",
       "    </tr>\n",
       "    <tr>\n",
       "      <th>1</th>\n",
       "      <td>100</td>\n",
       "      <td>41</td>\n",
       "      <td>35000</td>\n",
       "      <td>39</td>\n",
       "    </tr>\n",
       "    <tr>\n",
       "      <th>2</th>\n",
       "      <td>101</td>\n",
       "      <td>41</td>\n",
       "      <td>35000</td>\n",
       "      <td>39</td>\n",
       "    </tr>\n",
       "    <tr>\n",
       "      <th>3</th>\n",
       "      <td>101</td>\n",
       "      <td>30</td>\n",
       "      <td>50000</td>\n",
       "      <td>81</td>\n",
       "    </tr>\n",
       "    <tr>\n",
       "      <th>4</th>\n",
       "      <td>102</td>\n",
       "      <td>23</td>\n",
       "      <td>20000</td>\n",
       "      <td>40</td>\n",
       "    </tr>\n",
       "    <tr>\n",
       "      <th>5</th>\n",
       "      <td>103</td>\n",
       "      <td>19</td>\n",
       "      <td>30000</td>\n",
       "      <td>30</td>\n",
       "    </tr>\n",
       "    <tr>\n",
       "      <th>6</th>\n",
       "      <td>104</td>\n",
       "      <td>21</td>\n",
       "      <td>40000</td>\n",
       "      <td>77</td>\n",
       "    </tr>\n",
       "    <tr>\n",
       "      <th>7</th>\n",
       "      <td>105</td>\n",
       "      <td>20</td>\n",
       "      <td>35000</td>\n",
       "      <td>40</td>\n",
       "    </tr>\n",
       "    <tr>\n",
       "      <th>8</th>\n",
       "      <td>106</td>\n",
       "      <td>23</td>\n",
       "      <td>20000</td>\n",
       "      <td>76</td>\n",
       "    </tr>\n",
       "    <tr>\n",
       "      <th>9</th>\n",
       "      <td>107</td>\n",
       "      <td>31</td>\n",
       "      <td>18000</td>\n",
       "      <td>35</td>\n",
       "    </tr>\n",
       "  </tbody>\n",
       "</table>\n",
       "</div>"
      ],
      "text/plain": [
       "   CustomerID  Age  AnnualIncome  SpendingScore\n",
       "0          99   39         15000             30\n",
       "1         100   41         35000             39\n",
       "2         101   41         35000             39\n",
       "3         101   30         50000             81\n",
       "4         102   23         20000             40\n",
       "5         103   19         30000             30\n",
       "6         104   21         40000             77\n",
       "7         105   20         35000             40\n",
       "8         106   23         20000             76\n",
       "9         107   31         18000             35"
      ]
     },
     "execution_count": 2,
     "metadata": {},
     "output_type": "execute_result"
    }
   ],
   "source": [
    "import pandas as pd\n",
    "import numpy as np\n",
    "customerdata=pd.read_csv('customerdata.csv')\n",
    "customerdata"
   ]
  },
  {
   "cell_type": "code",
   "execution_count": 4,
   "id": "9c1ba8da-95ca-4f95-b930-2ecd5dc462e8",
   "metadata": {},
   "outputs": [
    {
     "data": {
      "text/html": [
       "<div>\n",
       "<style scoped>\n",
       "    .dataframe tbody tr th:only-of-type {\n",
       "        vertical-align: middle;\n",
       "    }\n",
       "\n",
       "    .dataframe tbody tr th {\n",
       "        vertical-align: top;\n",
       "    }\n",
       "\n",
       "    .dataframe thead th {\n",
       "        text-align: right;\n",
       "    }\n",
       "</style>\n",
       "<table border=\"1\" class=\"dataframe\">\n",
       "  <thead>\n",
       "    <tr style=\"text-align: right;\">\n",
       "      <th></th>\n",
       "      <th>CustomerID</th>\n",
       "      <th>Age</th>\n",
       "      <th>AnnualIncome</th>\n",
       "      <th>SpendingScore</th>\n",
       "    </tr>\n",
       "  </thead>\n",
       "  <tbody>\n",
       "    <tr>\n",
       "      <th>0</th>\n",
       "      <td>99</td>\n",
       "      <td>39</td>\n",
       "      <td>15000</td>\n",
       "      <td>30</td>\n",
       "    </tr>\n",
       "  </tbody>\n",
       "</table>\n",
       "</div>"
      ],
      "text/plain": [
       "   CustomerID  Age  AnnualIncome  SpendingScore\n",
       "0          99   39         15000             30"
      ]
     },
     "execution_count": 4,
     "metadata": {},
     "output_type": "execute_result"
    }
   ],
   "source": [
    "customerdata.head(1)"
   ]
  },
  {
   "cell_type": "code",
   "execution_count": 16,
   "id": "8bbe0802-7f34-462f-9439-5c5a79c9b7a1",
   "metadata": {},
   "outputs": [
    {
     "name": "stdout",
     "output_type": "stream",
     "text": [
      "Average Annual Income:\n",
      " Age\n",
      "19    30000.0\n",
      "20    35000.0\n",
      "21    40000.0\n",
      "23    20000.0\n",
      "30    50000.0\n",
      "31    18000.0\n",
      "39    15000.0\n",
      "41    35000.0\n",
      "Name: AnnualIncome, dtype: float64\n"
     ]
    }
   ],
   "source": [
    "#average annual income by age\n",
    "averageannualincome=customerdata.groupby('Age')['AnnualIncome'].mean()\n",
    "new_averageannualincome=round(averageannualincome, 2)\n",
    "print('Average Annual Income:\\n',new_averageannualincome)"
   ]
  },
  {
   "cell_type": "code",
   "execution_count": 21,
   "id": "6245662a-ed6f-4244-bf24-1be1681df89c",
   "metadata": {},
   "outputs": [
    {
     "name": "stdout",
     "output_type": "stream",
     "text": [
      "maximum income;\n",
      " 50000\n",
      "minimum income;\n",
      " 15000\n",
      "Income Difference;\n",
      " 35000\n"
     ]
    }
   ],
   "source": [
    "#range in annual income\n",
    "max_income=customerdata['AnnualIncome'].max()\n",
    "min_income=customerdata['AnnualIncome'].min()\n",
    "print('maximum income;\\n', max_income)\n",
    "print('minimum income;\\n', min_income)\n",
    "IncomeDifference=max_income-min_income\n",
    "print('Income Difference;\\n', IncomeDifference)\n",
    "\n"
   ]
  },
  {
   "cell_type": "code",
   "execution_count": 22,
   "id": "eeef44aa-e542-42cd-97fe-e9fc4f16975a",
   "metadata": {},
   "outputs": [
    {
     "data": {
      "text/plain": [
       "np.float64(127066666.66666667)"
      ]
     },
     "execution_count": 22,
     "metadata": {},
     "output_type": "execute_result"
    }
   ],
   "source": [
    "#variance in Annual Income\n",
    "customerdata['AnnualIncome'].var()"
   ]
  },
  {
   "cell_type": "code",
   "execution_count": 23,
   "id": "ece5f114-d7d2-4123-8bdb-100a5c9c7a5b",
   "metadata": {},
   "outputs": [
    {
     "data": {
      "text/plain": [
       "np.float64(11272.38513654793)"
      ]
     },
     "execution_count": 23,
     "metadata": {},
     "output_type": "execute_result"
    }
   ],
   "source": [
    "#std in Annual Income\n",
    "customerdata['AnnualIncome'].std()"
   ]
  },
  {
   "cell_type": "code",
   "execution_count": 39,
   "id": "d773920f-bd5e-4f56-b9d6-7d02b6c10634",
   "metadata": {},
   "outputs": [
    {
     "data": {
      "text/plain": [
       "0    False\n",
       "1    False\n",
       "2    False\n",
       "3    False\n",
       "4    False\n",
       "5    False\n",
       "6    False\n",
       "7    False\n",
       "8    False\n",
       "9    False\n",
       "dtype: bool"
      ]
     },
     "execution_count": 39,
     "metadata": {},
     "output_type": "execute_result"
    }
   ],
   "source": [
    "customerdata.duplicated()"
   ]
  },
  {
   "cell_type": "code",
   "execution_count": 12,
   "id": "98027799-8ef9-42cb-adee-4e2aa4ab7bf5",
   "metadata": {},
   "outputs": [
    {
     "data": {
      "text/plain": [
       "np.float64(72.42857142857143)"
      ]
     },
     "execution_count": 12,
     "metadata": {},
     "output_type": "execute_result"
    }
   ],
   "source": [
    "speed=[99,80,57,78,88,78,68,70,55,99,87,60,45,50]\n",
    "speed=np.mean(speed)\n",
    "speed"
   ]
  },
  {
   "cell_type": "code",
   "execution_count": 24,
   "id": "98f074e0-748d-4562-bfde-38b295b935ca",
   "metadata": {},
   "outputs": [
    {
     "data": {
      "text/plain": [
       "np.float64(72.42857142857143)"
      ]
     },
     "execution_count": 24,
     "metadata": {},
     "output_type": "execute_result"
    }
   ],
   "source": [
    "speed=np.median(speed)\n",
    "speed"
   ]
  },
  {
   "cell_type": "code",
   "execution_count": 33,
   "id": "2cec130f-143f-41e0-9679-09eb416f59d8",
   "metadata": {},
   "outputs": [
    {
     "data": {
      "text/plain": [
       "np.float64(72.42857142857143)"
      ]
     },
     "execution_count": 33,
     "metadata": {},
     "output_type": "execute_result"
    }
   ],
   "source": [
    "from scipy import stats\n",
    "mode=stats.mode(speed)\n",
    "speed"
   ]
  },
  {
   "cell_type": "code",
   "execution_count": 6,
   "id": "87162ac7-c5a9-4a25-ae57-4a86b6588d17",
   "metadata": {},
   "outputs": [
    {
     "data": {
      "text/plain": [
       "np.False_"
      ]
     },
     "execution_count": 6,
     "metadata": {},
     "output_type": "execute_result"
    }
   ],
   "source": [
    "speed=np.isnan(speed)\n",
    "speed"
   ]
  },
  {
   "cell_type": "code",
   "execution_count": 10,
   "id": "a2cf4b3e-6c14-4e5f-a07a-847051d5dd00",
   "metadata": {},
   "outputs": [
    {
     "data": {
      "text/plain": [
       "np.float64(0.0)"
      ]
     },
     "execution_count": 10,
     "metadata": {},
     "output_type": "execute_result"
    }
   ],
   "source": [
    "speed=np.mean(speed)\n",
    "speed"
   ]
  },
  {
   "cell_type": "code",
   "execution_count": null,
   "id": "9362b55e-9d70-4976-9295-aa69525ad5e0",
   "metadata": {},
   "outputs": [],
   "source": []
  },
  {
   "cell_type": "code",
   "execution_count": null,
   "id": "c1196a51-5d06-4fb1-adde-4e98761943b2",
   "metadata": {},
   "outputs": [],
   "source": []
  }
 ],
 "metadata": {
  "kernelspec": {
   "display_name": "Python 3 (ipykernel)",
   "language": "python",
   "name": "python3"
  },
  "language_info": {
   "codemirror_mode": {
    "name": "ipython",
    "version": 3
   },
   "file_extension": ".py",
   "mimetype": "text/x-python",
   "name": "python",
   "nbconvert_exporter": "python",
   "pygments_lexer": "ipython3",
   "version": "3.13.5"
  }
 },
 "nbformat": 4,
 "nbformat_minor": 5
}
